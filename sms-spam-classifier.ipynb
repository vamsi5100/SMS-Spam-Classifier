{
 "cells": [
  {
   "cell_type": "code",
   "execution_count": 1,
   "id": "f3ae1f9d",
   "metadata": {
    "execution": {
     "iopub.execute_input": "2022-08-20T18:00:13.444029Z",
     "iopub.status.busy": "2022-08-20T18:00:13.443441Z",
     "iopub.status.idle": "2022-08-20T18:00:13.455790Z",
     "shell.execute_reply": "2022-08-20T18:00:13.454759Z"
    },
    "papermill": {
     "duration": 0.039969,
     "end_time": "2022-08-20T18:00:13.458817",
     "exception": false,
     "start_time": "2022-08-20T18:00:13.418848",
     "status": "completed"
    },
    "tags": []
   },
   "outputs": [],
   "source": [
    "import numpy as np\n",
    "import pandas as pd"
   ]
  },
  {
   "cell_type": "code",
   "execution_count": 2,
   "id": "23303a99",
   "metadata": {
    "execution": {
     "iopub.execute_input": "2022-08-20T18:00:13.500342Z",
     "iopub.status.busy": "2022-08-20T18:00:13.499409Z",
     "iopub.status.idle": "2022-08-20T18:00:13.541435Z",
     "shell.execute_reply": "2022-08-20T18:00:13.539952Z"
    },
    "papermill": {
     "duration": 0.065672,
     "end_time": "2022-08-20T18:00:13.544363",
     "exception": false,
     "start_time": "2022-08-20T18:00:13.478691",
     "status": "completed"
    },
    "tags": []
   },
   "outputs": [],
   "source": [
    "df = pd.read_csv('../input/sms-spam-collection-dataset/spam.csv', encoding='latin-1')"
   ]
  },
  {
   "cell_type": "code",
   "execution_count": 3,
   "id": "f6e297c8",
   "metadata": {
    "execution": {
     "iopub.execute_input": "2022-08-20T18:00:13.583597Z",
     "iopub.status.busy": "2022-08-20T18:00:13.582839Z",
     "iopub.status.idle": "2022-08-20T18:00:13.606006Z",
     "shell.execute_reply": "2022-08-20T18:00:13.604748Z"
    },
    "papermill": {
     "duration": 0.045397,
     "end_time": "2022-08-20T18:00:13.608562",
     "exception": false,
     "start_time": "2022-08-20T18:00:13.563165",
     "status": "completed"
    },
    "tags": []
   },
   "outputs": [
    {
     "data": {
      "text/html": [
       "<div>\n",
       "<style scoped>\n",
       "    .dataframe tbody tr th:only-of-type {\n",
       "        vertical-align: middle;\n",
       "    }\n",
       "\n",
       "    .dataframe tbody tr th {\n",
       "        vertical-align: top;\n",
       "    }\n",
       "\n",
       "    .dataframe thead th {\n",
       "        text-align: right;\n",
       "    }\n",
       "</style>\n",
       "<table border=\"1\" class=\"dataframe\">\n",
       "  <thead>\n",
       "    <tr style=\"text-align: right;\">\n",
       "      <th></th>\n",
       "      <th>v1</th>\n",
       "      <th>v2</th>\n",
       "      <th>Unnamed: 2</th>\n",
       "      <th>Unnamed: 3</th>\n",
       "      <th>Unnamed: 4</th>\n",
       "    </tr>\n",
       "  </thead>\n",
       "  <tbody>\n",
       "    <tr>\n",
       "      <th>0</th>\n",
       "      <td>ham</td>\n",
       "      <td>Go until jurong point, crazy.. Available only ...</td>\n",
       "      <td>NaN</td>\n",
       "      <td>NaN</td>\n",
       "      <td>NaN</td>\n",
       "    </tr>\n",
       "    <tr>\n",
       "      <th>1</th>\n",
       "      <td>ham</td>\n",
       "      <td>Ok lar... Joking wif u oni...</td>\n",
       "      <td>NaN</td>\n",
       "      <td>NaN</td>\n",
       "      <td>NaN</td>\n",
       "    </tr>\n",
       "    <tr>\n",
       "      <th>2</th>\n",
       "      <td>spam</td>\n",
       "      <td>Free entry in 2 a wkly comp to win FA Cup fina...</td>\n",
       "      <td>NaN</td>\n",
       "      <td>NaN</td>\n",
       "      <td>NaN</td>\n",
       "    </tr>\n",
       "    <tr>\n",
       "      <th>3</th>\n",
       "      <td>ham</td>\n",
       "      <td>U dun say so early hor... U c already then say...</td>\n",
       "      <td>NaN</td>\n",
       "      <td>NaN</td>\n",
       "      <td>NaN</td>\n",
       "    </tr>\n",
       "    <tr>\n",
       "      <th>4</th>\n",
       "      <td>ham</td>\n",
       "      <td>Nah I don't think he goes to usf, he lives aro...</td>\n",
       "      <td>NaN</td>\n",
       "      <td>NaN</td>\n",
       "      <td>NaN</td>\n",
       "    </tr>\n",
       "  </tbody>\n",
       "</table>\n",
       "</div>"
      ],
      "text/plain": [
       "     v1                                                 v2 Unnamed: 2  \\\n",
       "0   ham  Go until jurong point, crazy.. Available only ...        NaN   \n",
       "1   ham                      Ok lar... Joking wif u oni...        NaN   \n",
       "2  spam  Free entry in 2 a wkly comp to win FA Cup fina...        NaN   \n",
       "3   ham  U dun say so early hor... U c already then say...        NaN   \n",
       "4   ham  Nah I don't think he goes to usf, he lives aro...        NaN   \n",
       "\n",
       "  Unnamed: 3 Unnamed: 4  \n",
       "0        NaN        NaN  \n",
       "1        NaN        NaN  \n",
       "2        NaN        NaN  \n",
       "3        NaN        NaN  \n",
       "4        NaN        NaN  "
      ]
     },
     "execution_count": 3,
     "metadata": {},
     "output_type": "execute_result"
    }
   ],
   "source": [
    "df.head()"
   ]
  },
  {
   "cell_type": "code",
   "execution_count": 4,
   "id": "72dda5bd",
   "metadata": {
    "execution": {
     "iopub.execute_input": "2022-08-20T18:00:13.647179Z",
     "iopub.status.busy": "2022-08-20T18:00:13.645976Z",
     "iopub.status.idle": "2022-08-20T18:00:13.653856Z",
     "shell.execute_reply": "2022-08-20T18:00:13.652703Z"
    },
    "papermill": {
     "duration": 0.029577,
     "end_time": "2022-08-20T18:00:13.656181",
     "exception": false,
     "start_time": "2022-08-20T18:00:13.626604",
     "status": "completed"
    },
    "tags": []
   },
   "outputs": [
    {
     "data": {
      "text/plain": [
       "(5572, 5)"
      ]
     },
     "execution_count": 4,
     "metadata": {},
     "output_type": "execute_result"
    }
   ],
   "source": [
    "df.shape"
   ]
  },
  {
   "cell_type": "markdown",
   "id": "f91d9710",
   "metadata": {
    "papermill": {
     "duration": 0.018394,
     "end_time": "2022-08-20T18:00:13.693440",
     "exception": false,
     "start_time": "2022-08-20T18:00:13.675046",
     "status": "completed"
    },
    "tags": []
   },
   "source": [
    "# 1. Data Cleaning"
   ]
  },
  {
   "cell_type": "code",
   "execution_count": 5,
   "id": "304d93d2",
   "metadata": {
    "execution": {
     "iopub.execute_input": "2022-08-20T18:00:13.733197Z",
     "iopub.status.busy": "2022-08-20T18:00:13.732741Z",
     "iopub.status.idle": "2022-08-20T18:00:13.762404Z",
     "shell.execute_reply": "2022-08-20T18:00:13.761190Z"
    },
    "papermill": {
     "duration": 0.053624,
     "end_time": "2022-08-20T18:00:13.765699",
     "exception": false,
     "start_time": "2022-08-20T18:00:13.712075",
     "status": "completed"
    },
    "tags": []
   },
   "outputs": [
    {
     "name": "stdout",
     "output_type": "stream",
     "text": [
      "<class 'pandas.core.frame.DataFrame'>\n",
      "RangeIndex: 5572 entries, 0 to 5571\n",
      "Data columns (total 5 columns):\n",
      " #   Column      Non-Null Count  Dtype \n",
      "---  ------      --------------  ----- \n",
      " 0   v1          5572 non-null   object\n",
      " 1   v2          5572 non-null   object\n",
      " 2   Unnamed: 2  50 non-null     object\n",
      " 3   Unnamed: 3  12 non-null     object\n",
      " 4   Unnamed: 4  6 non-null      object\n",
      "dtypes: object(5)\n",
      "memory usage: 217.8+ KB\n"
     ]
    }
   ],
   "source": [
    "df.info()"
   ]
  },
  {
   "cell_type": "code",
   "execution_count": 6,
   "id": "125ab95a",
   "metadata": {
    "execution": {
     "iopub.execute_input": "2022-08-20T18:00:13.806696Z",
     "iopub.status.busy": "2022-08-20T18:00:13.805311Z",
     "iopub.status.idle": "2022-08-20T18:00:13.817295Z",
     "shell.execute_reply": "2022-08-20T18:00:13.816194Z"
    },
    "papermill": {
     "duration": 0.034326,
     "end_time": "2022-08-20T18:00:13.819654",
     "exception": false,
     "start_time": "2022-08-20T18:00:13.785328",
     "status": "completed"
    },
    "tags": []
   },
   "outputs": [
    {
     "data": {
      "text/plain": [
       "v1               0\n",
       "v2               0\n",
       "Unnamed: 2    5522\n",
       "Unnamed: 3    5560\n",
       "Unnamed: 4    5566\n",
       "dtype: int64"
      ]
     },
     "execution_count": 6,
     "metadata": {},
     "output_type": "execute_result"
    }
   ],
   "source": [
    "df.isnull().sum()"
   ]
  },
  {
   "cell_type": "code",
   "execution_count": 7,
   "id": "acf666f2",
   "metadata": {
    "execution": {
     "iopub.execute_input": "2022-08-20T18:00:13.858960Z",
     "iopub.status.busy": "2022-08-20T18:00:13.858581Z",
     "iopub.status.idle": "2022-08-20T18:00:13.864766Z",
     "shell.execute_reply": "2022-08-20T18:00:13.863884Z"
    },
    "papermill": {
     "duration": 0.028551,
     "end_time": "2022-08-20T18:00:13.866850",
     "exception": false,
     "start_time": "2022-08-20T18:00:13.838299",
     "status": "completed"
    },
    "tags": []
   },
   "outputs": [],
   "source": [
    "df.drop(columns=['Unnamed: 2', 'Unnamed: 3', 'Unnamed: 4'], inplace=True)"
   ]
  },
  {
   "cell_type": "code",
   "execution_count": 8,
   "id": "05763c20",
   "metadata": {
    "execution": {
     "iopub.execute_input": "2022-08-20T18:00:13.906870Z",
     "iopub.status.busy": "2022-08-20T18:00:13.905982Z",
     "iopub.status.idle": "2022-08-20T18:00:13.916331Z",
     "shell.execute_reply": "2022-08-20T18:00:13.915458Z"
    },
    "papermill": {
     "duration": 0.03288,
     "end_time": "2022-08-20T18:00:13.918653",
     "exception": false,
     "start_time": "2022-08-20T18:00:13.885773",
     "status": "completed"
    },
    "tags": []
   },
   "outputs": [
    {
     "data": {
      "text/html": [
       "<div>\n",
       "<style scoped>\n",
       "    .dataframe tbody tr th:only-of-type {\n",
       "        vertical-align: middle;\n",
       "    }\n",
       "\n",
       "    .dataframe tbody tr th {\n",
       "        vertical-align: top;\n",
       "    }\n",
       "\n",
       "    .dataframe thead th {\n",
       "        text-align: right;\n",
       "    }\n",
       "</style>\n",
       "<table border=\"1\" class=\"dataframe\">\n",
       "  <thead>\n",
       "    <tr style=\"text-align: right;\">\n",
       "      <th></th>\n",
       "      <th>v1</th>\n",
       "      <th>v2</th>\n",
       "    </tr>\n",
       "  </thead>\n",
       "  <tbody>\n",
       "    <tr>\n",
       "      <th>0</th>\n",
       "      <td>ham</td>\n",
       "      <td>Go until jurong point, crazy.. Available only ...</td>\n",
       "    </tr>\n",
       "    <tr>\n",
       "      <th>1</th>\n",
       "      <td>ham</td>\n",
       "      <td>Ok lar... Joking wif u oni...</td>\n",
       "    </tr>\n",
       "    <tr>\n",
       "      <th>2</th>\n",
       "      <td>spam</td>\n",
       "      <td>Free entry in 2 a wkly comp to win FA Cup fina...</td>\n",
       "    </tr>\n",
       "    <tr>\n",
       "      <th>3</th>\n",
       "      <td>ham</td>\n",
       "      <td>U dun say so early hor... U c already then say...</td>\n",
       "    </tr>\n",
       "    <tr>\n",
       "      <th>4</th>\n",
       "      <td>ham</td>\n",
       "      <td>Nah I don't think he goes to usf, he lives aro...</td>\n",
       "    </tr>\n",
       "  </tbody>\n",
       "</table>\n",
       "</div>"
      ],
      "text/plain": [
       "     v1                                                 v2\n",
       "0   ham  Go until jurong point, crazy.. Available only ...\n",
       "1   ham                      Ok lar... Joking wif u oni...\n",
       "2  spam  Free entry in 2 a wkly comp to win FA Cup fina...\n",
       "3   ham  U dun say so early hor... U c already then say...\n",
       "4   ham  Nah I don't think he goes to usf, he lives aro..."
      ]
     },
     "execution_count": 8,
     "metadata": {},
     "output_type": "execute_result"
    }
   ],
   "source": [
    "df.head()"
   ]
  },
  {
   "cell_type": "code",
   "execution_count": 9,
   "id": "02ffab1b",
   "metadata": {
    "execution": {
     "iopub.execute_input": "2022-08-20T18:00:13.960043Z",
     "iopub.status.busy": "2022-08-20T18:00:13.959344Z",
     "iopub.status.idle": "2022-08-20T18:00:13.964516Z",
     "shell.execute_reply": "2022-08-20T18:00:13.963687Z"
    },
    "papermill": {
     "duration": 0.028527,
     "end_time": "2022-08-20T18:00:13.966763",
     "exception": false,
     "start_time": "2022-08-20T18:00:13.938236",
     "status": "completed"
    },
    "tags": []
   },
   "outputs": [],
   "source": [
    "df.rename(columns={'v1':'target', 'v2':'text'}, inplace=True)"
   ]
  },
  {
   "cell_type": "code",
   "execution_count": 10,
   "id": "4e6e43ca",
   "metadata": {
    "execution": {
     "iopub.execute_input": "2022-08-20T18:00:14.008157Z",
     "iopub.status.busy": "2022-08-20T18:00:14.007474Z",
     "iopub.status.idle": "2022-08-20T18:00:14.016734Z",
     "shell.execute_reply": "2022-08-20T18:00:14.015890Z"
    },
    "papermill": {
     "duration": 0.033212,
     "end_time": "2022-08-20T18:00:14.019308",
     "exception": false,
     "start_time": "2022-08-20T18:00:13.986096",
     "status": "completed"
    },
    "tags": []
   },
   "outputs": [
    {
     "data": {
      "text/html": [
       "<div>\n",
       "<style scoped>\n",
       "    .dataframe tbody tr th:only-of-type {\n",
       "        vertical-align: middle;\n",
       "    }\n",
       "\n",
       "    .dataframe tbody tr th {\n",
       "        vertical-align: top;\n",
       "    }\n",
       "\n",
       "    .dataframe thead th {\n",
       "        text-align: right;\n",
       "    }\n",
       "</style>\n",
       "<table border=\"1\" class=\"dataframe\">\n",
       "  <thead>\n",
       "    <tr style=\"text-align: right;\">\n",
       "      <th></th>\n",
       "      <th>target</th>\n",
       "      <th>text</th>\n",
       "    </tr>\n",
       "  </thead>\n",
       "  <tbody>\n",
       "    <tr>\n",
       "      <th>0</th>\n",
       "      <td>ham</td>\n",
       "      <td>Go until jurong point, crazy.. Available only ...</td>\n",
       "    </tr>\n",
       "    <tr>\n",
       "      <th>1</th>\n",
       "      <td>ham</td>\n",
       "      <td>Ok lar... Joking wif u oni...</td>\n",
       "    </tr>\n",
       "    <tr>\n",
       "      <th>2</th>\n",
       "      <td>spam</td>\n",
       "      <td>Free entry in 2 a wkly comp to win FA Cup fina...</td>\n",
       "    </tr>\n",
       "    <tr>\n",
       "      <th>3</th>\n",
       "      <td>ham</td>\n",
       "      <td>U dun say so early hor... U c already then say...</td>\n",
       "    </tr>\n",
       "    <tr>\n",
       "      <th>4</th>\n",
       "      <td>ham</td>\n",
       "      <td>Nah I don't think he goes to usf, he lives aro...</td>\n",
       "    </tr>\n",
       "  </tbody>\n",
       "</table>\n",
       "</div>"
      ],
      "text/plain": [
       "  target                                               text\n",
       "0    ham  Go until jurong point, crazy.. Available only ...\n",
       "1    ham                      Ok lar... Joking wif u oni...\n",
       "2   spam  Free entry in 2 a wkly comp to win FA Cup fina...\n",
       "3    ham  U dun say so early hor... U c already then say...\n",
       "4    ham  Nah I don't think he goes to usf, he lives aro..."
      ]
     },
     "execution_count": 10,
     "metadata": {},
     "output_type": "execute_result"
    }
   ],
   "source": [
    "df.head()"
   ]
  },
  {
   "cell_type": "code",
   "execution_count": 11,
   "id": "dfab7b1c",
   "metadata": {
    "execution": {
     "iopub.execute_input": "2022-08-20T18:00:14.060993Z",
     "iopub.status.busy": "2022-08-20T18:00:14.060326Z",
     "iopub.status.idle": "2022-08-20T18:00:15.098490Z",
     "shell.execute_reply": "2022-08-20T18:00:15.097078Z"
    },
    "papermill": {
     "duration": 1.062121,
     "end_time": "2022-08-20T18:00:15.101227",
     "exception": false,
     "start_time": "2022-08-20T18:00:14.039106",
     "status": "completed"
    },
    "tags": []
   },
   "outputs": [],
   "source": [
    "from sklearn.preprocessing import LabelEncoder\n",
    "encoder = LabelEncoder()"
   ]
  },
  {
   "cell_type": "code",
   "execution_count": 12,
   "id": "c7da793e",
   "metadata": {
    "execution": {
     "iopub.execute_input": "2022-08-20T18:00:15.149386Z",
     "iopub.status.busy": "2022-08-20T18:00:15.148205Z",
     "iopub.status.idle": "2022-08-20T18:00:15.159044Z",
     "shell.execute_reply": "2022-08-20T18:00:15.157656Z"
    },
    "papermill": {
     "duration": 0.035,
     "end_time": "2022-08-20T18:00:15.161671",
     "exception": false,
     "start_time": "2022-08-20T18:00:15.126671",
     "status": "completed"
    },
    "tags": []
   },
   "outputs": [],
   "source": [
    "df['target'] = encoder.fit_transform(df['target'])"
   ]
  },
  {
   "cell_type": "code",
   "execution_count": 13,
   "id": "901d3a4a",
   "metadata": {
    "execution": {
     "iopub.execute_input": "2022-08-20T18:00:15.203038Z",
     "iopub.status.busy": "2022-08-20T18:00:15.201567Z",
     "iopub.status.idle": "2022-08-20T18:00:15.212293Z",
     "shell.execute_reply": "2022-08-20T18:00:15.211225Z"
    },
    "papermill": {
     "duration": 0.034156,
     "end_time": "2022-08-20T18:00:15.215020",
     "exception": false,
     "start_time": "2022-08-20T18:00:15.180864",
     "status": "completed"
    },
    "tags": []
   },
   "outputs": [
    {
     "data": {
      "text/html": [
       "<div>\n",
       "<style scoped>\n",
       "    .dataframe tbody tr th:only-of-type {\n",
       "        vertical-align: middle;\n",
       "    }\n",
       "\n",
       "    .dataframe tbody tr th {\n",
       "        vertical-align: top;\n",
       "    }\n",
       "\n",
       "    .dataframe thead th {\n",
       "        text-align: right;\n",
       "    }\n",
       "</style>\n",
       "<table border=\"1\" class=\"dataframe\">\n",
       "  <thead>\n",
       "    <tr style=\"text-align: right;\">\n",
       "      <th></th>\n",
       "      <th>target</th>\n",
       "      <th>text</th>\n",
       "    </tr>\n",
       "  </thead>\n",
       "  <tbody>\n",
       "    <tr>\n",
       "      <th>0</th>\n",
       "      <td>0</td>\n",
       "      <td>Go until jurong point, crazy.. Available only ...</td>\n",
       "    </tr>\n",
       "    <tr>\n",
       "      <th>1</th>\n",
       "      <td>0</td>\n",
       "      <td>Ok lar... Joking wif u oni...</td>\n",
       "    </tr>\n",
       "    <tr>\n",
       "      <th>2</th>\n",
       "      <td>1</td>\n",
       "      <td>Free entry in 2 a wkly comp to win FA Cup fina...</td>\n",
       "    </tr>\n",
       "    <tr>\n",
       "      <th>3</th>\n",
       "      <td>0</td>\n",
       "      <td>U dun say so early hor... U c already then say...</td>\n",
       "    </tr>\n",
       "    <tr>\n",
       "      <th>4</th>\n",
       "      <td>0</td>\n",
       "      <td>Nah I don't think he goes to usf, he lives aro...</td>\n",
       "    </tr>\n",
       "  </tbody>\n",
       "</table>\n",
       "</div>"
      ],
      "text/plain": [
       "   target                                               text\n",
       "0       0  Go until jurong point, crazy.. Available only ...\n",
       "1       0                      Ok lar... Joking wif u oni...\n",
       "2       1  Free entry in 2 a wkly comp to win FA Cup fina...\n",
       "3       0  U dun say so early hor... U c already then say...\n",
       "4       0  Nah I don't think he goes to usf, he lives aro..."
      ]
     },
     "execution_count": 13,
     "metadata": {},
     "output_type": "execute_result"
    }
   ],
   "source": [
    "df.head()"
   ]
  },
  {
   "cell_type": "code",
   "execution_count": 14,
   "id": "7cf88fb4",
   "metadata": {
    "execution": {
     "iopub.execute_input": "2022-08-20T18:00:15.258032Z",
     "iopub.status.busy": "2022-08-20T18:00:15.257571Z",
     "iopub.status.idle": "2022-08-20T18:00:15.268101Z",
     "shell.execute_reply": "2022-08-20T18:00:15.267039Z"
    },
    "papermill": {
     "duration": 0.035408,
     "end_time": "2022-08-20T18:00:15.270919",
     "exception": false,
     "start_time": "2022-08-20T18:00:15.235511",
     "status": "completed"
    },
    "tags": []
   },
   "outputs": [
    {
     "data": {
      "text/plain": [
       "target    0\n",
       "text      0\n",
       "dtype: int64"
      ]
     },
     "execution_count": 14,
     "metadata": {},
     "output_type": "execute_result"
    }
   ],
   "source": [
    "df.isnull().sum()"
   ]
  },
  {
   "cell_type": "code",
   "execution_count": 15,
   "id": "eef56284",
   "metadata": {
    "execution": {
     "iopub.execute_input": "2022-08-20T18:00:15.311942Z",
     "iopub.status.busy": "2022-08-20T18:00:15.311189Z",
     "iopub.status.idle": "2022-08-20T18:00:15.322416Z",
     "shell.execute_reply": "2022-08-20T18:00:15.321219Z"
    },
    "papermill": {
     "duration": 0.034333,
     "end_time": "2022-08-20T18:00:15.324993",
     "exception": false,
     "start_time": "2022-08-20T18:00:15.290660",
     "status": "completed"
    },
    "tags": []
   },
   "outputs": [
    {
     "data": {
      "text/plain": [
       "403"
      ]
     },
     "execution_count": 15,
     "metadata": {},
     "output_type": "execute_result"
    }
   ],
   "source": [
    "df.duplicated().sum()"
   ]
  },
  {
   "cell_type": "code",
   "execution_count": 16,
   "id": "983e5111",
   "metadata": {
    "execution": {
     "iopub.execute_input": "2022-08-20T18:00:15.365402Z",
     "iopub.status.busy": "2022-08-20T18:00:15.364924Z",
     "iopub.status.idle": "2022-08-20T18:00:15.377430Z",
     "shell.execute_reply": "2022-08-20T18:00:15.376200Z"
    },
    "papermill": {
     "duration": 0.035733,
     "end_time": "2022-08-20T18:00:15.380049",
     "exception": false,
     "start_time": "2022-08-20T18:00:15.344316",
     "status": "completed"
    },
    "tags": []
   },
   "outputs": [],
   "source": [
    "df = df.drop_duplicates(keep='first')"
   ]
  },
  {
   "cell_type": "code",
   "execution_count": 17,
   "id": "98555270",
   "metadata": {
    "execution": {
     "iopub.execute_input": "2022-08-20T18:00:15.420913Z",
     "iopub.status.busy": "2022-08-20T18:00:15.420409Z",
     "iopub.status.idle": "2022-08-20T18:00:15.432977Z",
     "shell.execute_reply": "2022-08-20T18:00:15.431724Z"
    },
    "papermill": {
     "duration": 0.036082,
     "end_time": "2022-08-20T18:00:15.435574",
     "exception": false,
     "start_time": "2022-08-20T18:00:15.399492",
     "status": "completed"
    },
    "tags": []
   },
   "outputs": [
    {
     "data": {
      "text/plain": [
       "0"
      ]
     },
     "execution_count": 17,
     "metadata": {},
     "output_type": "execute_result"
    }
   ],
   "source": [
    "df.duplicated().sum()"
   ]
  },
  {
   "cell_type": "code",
   "execution_count": 18,
   "id": "8778e983",
   "metadata": {
    "execution": {
     "iopub.execute_input": "2022-08-20T18:00:15.476088Z",
     "iopub.status.busy": "2022-08-20T18:00:15.475630Z",
     "iopub.status.idle": "2022-08-20T18:00:15.483708Z",
     "shell.execute_reply": "2022-08-20T18:00:15.482538Z"
    },
    "papermill": {
     "duration": 0.031033,
     "end_time": "2022-08-20T18:00:15.485897",
     "exception": false,
     "start_time": "2022-08-20T18:00:15.454864",
     "status": "completed"
    },
    "tags": []
   },
   "outputs": [
    {
     "data": {
      "text/plain": [
       "(5169, 2)"
      ]
     },
     "execution_count": 18,
     "metadata": {},
     "output_type": "execute_result"
    }
   ],
   "source": [
    "df.shape"
   ]
  },
  {
   "cell_type": "markdown",
   "id": "c0d02ba2",
   "metadata": {
    "papermill": {
     "duration": 0.019158,
     "end_time": "2022-08-20T18:00:15.524859",
     "exception": false,
     "start_time": "2022-08-20T18:00:15.505701",
     "status": "completed"
    },
    "tags": []
   },
   "source": [
    "# 2. EDA"
   ]
  },
  {
   "cell_type": "code",
   "execution_count": 19,
   "id": "edd51ced",
   "metadata": {
    "execution": {
     "iopub.execute_input": "2022-08-20T18:00:15.565093Z",
     "iopub.status.busy": "2022-08-20T18:00:15.564635Z",
     "iopub.status.idle": "2022-08-20T18:00:15.574549Z",
     "shell.execute_reply": "2022-08-20T18:00:15.573388Z"
    },
    "papermill": {
     "duration": 0.033091,
     "end_time": "2022-08-20T18:00:15.577036",
     "exception": false,
     "start_time": "2022-08-20T18:00:15.543945",
     "status": "completed"
    },
    "tags": []
   },
   "outputs": [
    {
     "data": {
      "text/plain": [
       "0    4516\n",
       "1     653\n",
       "Name: target, dtype: int64"
      ]
     },
     "execution_count": 19,
     "metadata": {},
     "output_type": "execute_result"
    }
   ],
   "source": [
    "df['target'].value_counts()"
   ]
  },
  {
   "cell_type": "code",
   "execution_count": 20,
   "id": "e96fd552",
   "metadata": {
    "execution": {
     "iopub.execute_input": "2022-08-20T18:00:15.618219Z",
     "iopub.status.busy": "2022-08-20T18:00:15.617227Z",
     "iopub.status.idle": "2022-08-20T18:00:15.757740Z",
     "shell.execute_reply": "2022-08-20T18:00:15.756192Z"
    },
    "papermill": {
     "duration": 0.164034,
     "end_time": "2022-08-20T18:00:15.760384",
     "exception": false,
     "start_time": "2022-08-20T18:00:15.596350",
     "status": "completed"
    },
    "tags": []
   },
   "outputs": [
    {
     "data": {
      "image/png": "[encoded data removed]",
      "text/plain": [
       "<Figure size 432x288 with 1 Axes>"
      ]
     },
     "metadata": {},
     "output_type": "display_data"
    }
   ],
   "source": [
    "import matplotlib.pyplot as plt\n",
    "plt.pie(df['target'].value_counts(), labels=['ham', 'spam'], autopct='%0.2f')\n",
    "plt.show()\n",
    "# Data is imbalanced"
   ]
  },
  {
   "cell_type": "code",
   "execution_count": 21,
   "id": "9524f102",
   "metadata": {
    "execution": {
     "iopub.execute_input": "2022-08-20T18:00:15.803906Z",
     "iopub.status.busy": "2022-08-20T18:00:15.802287Z",
     "iopub.status.idle": "2022-08-20T18:00:16.453412Z",
     "shell.execute_reply": "2022-08-20T18:00:16.452187Z"
    },
    "papermill": {
     "duration": 0.676267,
     "end_time": "2022-08-20T18:00:16.456661",
     "exception": false,
     "start_time": "2022-08-20T18:00:15.780394",
     "status": "completed"
    },
    "tags": []
   },
   "outputs": [],
   "source": [
    "import nltk"
   ]
  },
  {
   "cell_type": "code",
   "execution_count": 22,
   "id": "8a94da2d",
   "metadata": {
    "execution": {
     "iopub.execute_input": "2022-08-20T18:00:16.500432Z",
     "iopub.status.busy": "2022-08-20T18:00:16.499970Z",
     "iopub.status.idle": "2022-08-20T18:00:16.909856Z",
     "shell.execute_reply": "2022-08-20T18:00:16.908547Z"
    },
    "papermill": {
     "duration": 0.433735,
     "end_time": "2022-08-20T18:00:16.911911",
     "exception": false,
     "start_time": "2022-08-20T18:00:16.478176",
     "status": "completed"
    },
    "tags": []
   },
   "outputs": [
    {
     "name": "stderr",
     "output_type": "stream",
     "text": [
      "[nltk_data] Downloading package punkt to /usr/share/nltk_data...\n",
      "[nltk_data]   Package punkt is already up-to-date!\n"
     ]
    },
    {
     "data": {
      "text/plain": [
       "True"
      ]
     },
     "execution_count": 22,
     "metadata": {},
     "output_type": "execute_result"
    }
   ],
   "source": [
    "nltk.download('punkt')"
   ]
  },
  {
   "cell_type": "code",
   "execution_count": 23,
   "id": "102a9916",
   "metadata": {
    "execution": {
     "iopub.execute_input": "2022-08-20T18:00:16.954184Z",
     "iopub.status.busy": "2022-08-20T18:00:16.953685Z",
     "iopub.status.idle": "2022-08-20T18:00:16.963100Z",
     "shell.execute_reply": "2022-08-20T18:00:16.962054Z"
    },
    "papermill": {
     "duration": 0.033545,
     "end_time": "2022-08-20T18:00:16.965572",
     "exception": false,
     "start_time": "2022-08-20T18:00:16.932027",
     "status": "completed"
    },
    "tags": []
   },
   "outputs": [],
   "source": [
    "df['num_characters'] = df['text'].apply(len)"
   ]
  },
  {
   "cell_type": "code",
   "execution_count": 24,
   "id": "0e63ec8d",
   "metadata": {
    "execution": {
     "iopub.execute_input": "2022-08-20T18:00:17.010014Z",
     "iopub.status.busy": "2022-08-20T18:00:17.008754Z",
     "iopub.status.idle": "2022-08-20T18:00:17.021317Z",
     "shell.execute_reply": "2022-08-20T18:00:17.020118Z"
    },
    "papermill": {
     "duration": 0.037058,
     "end_time": "2022-08-20T18:00:17.023604",
     "exception": false,
     "start_time": "2022-08-20T18:00:16.986546",
     "status": "completed"
    },
    "tags": []
   },
   "outputs": [
    {
     "data": {
      "text/html": [
       "<div>\n",
       "<style scoped>\n",
       "    .dataframe tbody tr th:only-of-type {\n",
       "        vertical-align: middle;\n",
       "    }\n",
       "\n",
       "    .dataframe tbody tr th {\n",
       "        vertical-align: top;\n",
       "    }\n",
       "\n",
       "    .dataframe thead th {\n",
       "        text-align: right;\n",
       "    }\n",
       "</style>\n",
       "<table border=\"1\" class=\"dataframe\">\n",
       "  <thead>\n",
       "    <tr style=\"text-align: right;\">\n",
       "      <th></th>\n",
       "      <th>target</th>\n",
       "      <th>text</th>\n",
       "      <th>num_characters</th>\n",
       "    </tr>\n",
       "  </thead>\n",
       "  <tbody>\n",
       "    <tr>\n",
       "      <th>0</th>\n",
       "      <td>0</td>\n",
       "      <td>Go until jurong point, crazy.. Available only ...</td>\n",
       "      <td>111</td>\n",
       "    </tr>\n",
       "    <tr>\n",
       "      <th>1</th>\n",
       "      <td>0</td>\n",
       "      <td>Ok lar... Joking wif u oni...</td>\n",
       "      <td>29</td>\n",
       "    </tr>\n",
       "    <tr>\n",
       "      <th>2</th>\n",
       "      <td>1</td>\n",
       "      <td>Free entry in 2 a wkly comp to win FA Cup fina...</td>\n",
       "      <td>155</td>\n",
       "    </tr>\n",
       "    <tr>\n",
       "      <th>3</th>\n",
       "      <td>0</td>\n",
       "      <td>U dun say so early hor... U c already then say...</td>\n",
       "      <td>49</td>\n",
       "    </tr>\n",
       "    <tr>\n",
       "      <th>4</th>\n",
       "      <td>0</td>\n",
       "      <td>Nah I don't think he goes to usf, he lives aro...</td>\n",
       "      <td>61</td>\n",
       "    </tr>\n",
       "  </tbody>\n",
       "</table>\n",
       "</div>"
      ],
      "text/plain": [
       "   target                                               text  num_characters\n",
       "0       0  Go until jurong point, crazy.. Available only ...             111\n",
       "1       0                      Ok lar... Joking wif u oni...              29\n",
       "2       1  Free entry in 2 a wkly comp to win FA Cup fina...             155\n",
       "3       0  U dun say so early hor... U c already then say...              49\n",
       "4       0  Nah I don't think he goes to usf, he lives aro...              61"
      ]
     },
     "execution_count": 24,
     "metadata": {},
     "output_type": "execute_result"
    }
   ],
   "source": [
    "df.head()"
   ]
  },
  {
   "cell_type": "code",
   "execution_count": 25,
   "id": "f53d892b",
   "metadata": {
    "execution": {
     "iopub.execute_input": "2022-08-20T18:00:17.066977Z",
     "iopub.status.busy": "2022-08-20T18:00:17.066558Z",
     "iopub.status.idle": "2022-08-20T18:00:18.279751Z",
     "shell.execute_reply": "2022-08-20T18:00:18.278531Z"
    },
    "papermill": {
     "duration": 1.238266,
     "end_time": "2022-08-20T18:00:18.282748",
     "exception": false,
     "start_time": "2022-08-20T18:00:17.044482",
     "status": "completed"
    },
    "tags": []
   },
   "outputs": [],
   "source": [
    "# number of words\n",
    "df['num_words'] = df['text'].apply(lambda x:len(nltk.word_tokenize(x)))"
   ]
  },
  {
   "cell_type": "code",
   "execution_count": 26,
   "id": "a6baf1fd",
   "metadata": {
    "execution": {
     "iopub.execute_input": "2022-08-20T18:00:18.325841Z",
     "iopub.status.busy": "2022-08-20T18:00:18.324783Z",
     "iopub.status.idle": "2022-08-20T18:00:18.336247Z",
     "shell.execute_reply": "2022-08-20T18:00:18.335149Z"
    },
    "papermill": {
     "duration": 0.034981,
     "end_time": "2022-08-20T18:00:18.338507",
     "exception": false,
     "start_time": "2022-08-20T18:00:18.303526",
     "status": "completed"
    },
    "tags": []
   },
   "outputs": [
    {
     "data": {
      "text/html": [
       "<div>\n",
       "<style scoped>\n",
       "    .dataframe tbody tr th:only-of-type {\n",
       "        vertical-align: middle;\n",
       "    }\n",
       "\n",
       "    .dataframe tbody tr th {\n",
       "        vertical-align: top;\n",
       "    }\n",
       "\n",
       "    .dataframe thead th {\n",
       "        text-align: right;\n",
       "    }\n",
       "</style>\n",
       "<table border=\"1\" class=\"dataframe\">\n",
       "  <thead>\n",
       "    <tr style=\"text-align: right;\">\n",
       "      <th></th>\n",
       "      <th>target</th>\n",
       "      <th>text</th>\n",
       "      <th>num_characters</th>\n",
       "      <th>num_words</th>\n",
       "    </tr>\n",
       "  </thead>\n",
       "  <tbody>\n",
       "    <tr>\n",
       "      <th>0</th>\n",
       "      <td>0</td>\n",
       "      <td>Go until jurong point, crazy.. Available only ...</td>\n",
       "      <td>111</td>\n",
       "      <td>24</td>\n",
       "    </tr>\n",
       "    <tr>\n",
       "      <th>1</th>\n",
       "      <td>0</td>\n",
       "      <td>Ok lar... Joking wif u oni...</td>\n",
       "      <td>29</td>\n",
       "      <td>8</td>\n",
       "    </tr>\n",
       "    <tr>\n",
       "      <th>2</th>\n",
       "      <td>1</td>\n",
       "      <td>Free entry in 2 a wkly comp to win FA Cup fina...</td>\n",
       "      <td>155</td>\n",
       "      <td>37</td>\n",
       "    </tr>\n",
       "    <tr>\n",
       "      <th>3</th>\n",
       "      <td>0</td>\n",
       "      <td>U dun say so early hor... U c already then say...</td>\n",
       "      <td>49</td>\n",
       "      <td>13</td>\n",
       "    </tr>\n",
       "    <tr>\n",
       "      <th>4</th>\n",
       "      <td>0</td>\n",
       "      <td>Nah I don't think he goes to usf, he lives aro...</td>\n",
       "      <td>61</td>\n",
       "      <td>15</td>\n",
       "    </tr>\n",
       "  </tbody>\n",
       "</table>\n",
       "</div>"
      ],
      "text/plain": [
       "   target                                               text  num_characters  \\\n",
       "0       0  Go until jurong point, crazy.. Available only ...             111   \n",
       "1       0                      Ok lar... Joking wif u oni...              29   \n",
       "2       1  Free entry in 2 a wkly comp to win FA Cup fina...             155   \n",
       "3       0  U dun say so early hor... U c already then say...              49   \n",
       "4       0  Nah I don't think he goes to usf, he lives aro...              61   \n",
       "\n",
       "   num_words  \n",
       "0         24  \n",
       "1          8  \n",
       "2         37  \n",
       "3         13  \n",
       "4         15  "
      ]
     },
     "execution_count": 26,
     "metadata": {},
     "output_type": "execute_result"
    }
   ],
   "source": [
    "df.head()"
   ]
  },
  {
   "cell_type": "code",
   "execution_count": 27,
   "id": "00b085ae",
   "metadata": {
    "execution": {
     "iopub.execute_input": "2022-08-20T18:00:18.380719Z",
     "iopub.status.busy": "2022-08-20T18:00:18.379939Z",
     "iopub.status.idle": "2022-08-20T18:00:18.694568Z",
     "shell.execute_reply": "2022-08-20T18:00:18.693239Z"
    },
    "papermill": {
     "duration": 0.338814,
     "end_time": "2022-08-20T18:00:18.697425",
     "exception": false,
     "start_time": "2022-08-20T18:00:18.358611",
     "status": "completed"
    },
    "tags": []
   },
   "outputs": [],
   "source": [
    "df['num_sentences'] = df['text'].apply(lambda x:len(nltk.sent_tokenize(x)))"
   ]
  },
  {
   "cell_type": "code",
   "execution_count": 28,
   "id": "f05ba64d",
   "metadata": {
    "execution": {
     "iopub.execute_input": "2022-08-20T18:00:18.742389Z",
     "iopub.status.busy": "2022-08-20T18:00:18.741965Z",
     "iopub.status.idle": "2022-08-20T18:00:18.764997Z",
     "shell.execute_reply": "2022-08-20T18:00:18.764211Z"
    },
    "papermill": {
     "duration": 0.047863,
     "end_time": "2022-08-20T18:00:18.767158",
     "exception": false,
     "start_time": "2022-08-20T18:00:18.719295",
     "status": "completed"
    },
    "tags": []
   },
   "outputs": [
    {
     "data": {
      "text/html": [
       "<div>\n",
       "<style scoped>\n",
       "    .dataframe tbody tr th:only-of-type {\n",
       "        vertical-align: middle;\n",
       "    }\n",
       "\n",
       "    .dataframe tbody tr th {\n",
       "        vertical-align: top;\n",
       "    }\n",
       "\n",
       "    .dataframe thead th {\n",
       "        text-align: right;\n",
       "    }\n",
       "</style>\n",
       "<table border=\"1\" class=\"dataframe\">\n",
       "  <thead>\n",
       "    <tr style=\"text-align: right;\">\n",
       "      <th></th>\n",
       "      <th>num_characters</th>\n",
       "      <th>num_words</th>\n",
       "      <th>num_sentences</th>\n",
       "    </tr>\n",
       "  </thead>\n",
       "  <tbody>\n",
       "    <tr>\n",
       "      <th>count</th>\n",
       "      <td>5169.000000</td>\n",
       "      <td>5169.000000</td>\n",
       "      <td>5169.000000</td>\n",
       "    </tr>\n",
       "    <tr>\n",
       "      <th>mean</th>\n",
       "      <td>78.977945</td>\n",
       "      <td>18.453279</td>\n",
       "      <td>1.947185</td>\n",
       "    </tr>\n",
       "    <tr>\n",
       "      <th>std</th>\n",
       "      <td>58.236293</td>\n",
       "      <td>13.324793</td>\n",
       "      <td>1.362406</td>\n",
       "    </tr>\n",
       "    <tr>\n",
       "      <th>min</th>\n",
       "      <td>2.000000</td>\n",
       "      <td>1.000000</td>\n",
       "      <td>1.000000</td>\n",
       "    </tr>\n",
       "    <tr>\n",
       "      <th>25%</th>\n",
       "      <td>36.000000</td>\n",
       "      <td>9.000000</td>\n",
       "      <td>1.000000</td>\n",
       "    </tr>\n",
       "    <tr>\n",
       "      <th>50%</th>\n",
       "      <td>60.000000</td>\n",
       "      <td>15.000000</td>\n",
       "      <td>1.000000</td>\n",
       "    </tr>\n",
       "    <tr>\n",
       "      <th>75%</th>\n",
       "      <td>117.000000</td>\n",
       "      <td>26.000000</td>\n",
       "      <td>2.000000</td>\n",
       "    </tr>\n",
       "    <tr>\n",
       "      <th>max</th>\n",
       "      <td>910.000000</td>\n",
       "      <td>220.000000</td>\n",
       "      <td>28.000000</td>\n",
       "    </tr>\n",
       "  </tbody>\n",
       "</table>\n",
       "</div>"
      ],
      "text/plain": [
       "       num_characters    num_words  num_sentences\n",
       "count     5169.000000  5169.000000    5169.000000\n",
       "mean        78.977945    18.453279       1.947185\n",
       "std         58.236293    13.324793       1.362406\n",
       "min          2.000000     1.000000       1.000000\n",
       "25%         36.000000     9.000000       1.000000\n",
       "50%         60.000000    15.000000       1.000000\n",
       "75%        117.000000    26.000000       2.000000\n",
       "max        910.000000   220.000000      28.000000"
      ]
     },
     "execution_count": 28,
     "metadata": {},
     "output_type": "execute_result"
    }
   ],
   "source": [
    "df[['num_characters', 'num_words', 'num_sentences']].describe()"
   ]
  },
  {
   "cell_type": "code",
   "execution_count": 29,
   "id": "de5bb475",
   "metadata": {
    "execution": {
     "iopub.execute_input": "2022-08-20T18:00:18.812290Z",
     "iopub.status.busy": "2022-08-20T18:00:18.811850Z",
     "iopub.status.idle": "2022-08-20T18:00:18.833640Z",
     "shell.execute_reply": "2022-08-20T18:00:18.832534Z"
    },
    "papermill": {
     "duration": 0.04727,
     "end_time": "2022-08-20T18:00:18.835979",
     "exception": false,
     "start_time": "2022-08-20T18:00:18.788709",
     "status": "completed"
    },
    "tags": []
   },
   "outputs": [
    {
     "data": {
      "text/html": [
       "<div>\n",
       "<style scoped>\n",
       "    .dataframe tbody tr th:only-of-type {\n",
       "        vertical-align: middle;\n",
       "    }\n",
       "\n",
       "    .dataframe tbody tr th {\n",
       "        vertical-align: top;\n",
       "    }\n",
       "\n",
       "    .dataframe thead th {\n",
       "        text-align: right;\n",
       "    }\n",
       "</style>\n",
       "<table border=\"1\" class=\"dataframe\">\n",
       "  <thead>\n",
       "    <tr style=\"text-align: right;\">\n",
       "      <th></th>\n",
       "      <th>num_characters</th>\n",
       "      <th>num_words</th>\n",
       "      <th>num_sentences</th>\n",
       "    </tr>\n",
       "  </thead>\n",
       "  <tbody>\n",
       "    <tr>\n",
       "      <th>count</th>\n",
       "      <td>4516.000000</td>\n",
       "      <td>4516.000000</td>\n",
       "      <td>4516.000000</td>\n",
       "    </tr>\n",
       "    <tr>\n",
       "      <th>mean</th>\n",
       "      <td>70.459256</td>\n",
       "      <td>17.120903</td>\n",
       "      <td>1.799601</td>\n",
       "    </tr>\n",
       "    <tr>\n",
       "      <th>std</th>\n",
       "      <td>56.358207</td>\n",
       "      <td>13.493725</td>\n",
       "      <td>1.278465</td>\n",
       "    </tr>\n",
       "    <tr>\n",
       "      <th>min</th>\n",
       "      <td>2.000000</td>\n",
       "      <td>1.000000</td>\n",
       "      <td>1.000000</td>\n",
       "    </tr>\n",
       "    <tr>\n",
       "      <th>25%</th>\n",
       "      <td>34.000000</td>\n",
       "      <td>8.000000</td>\n",
       "      <td>1.000000</td>\n",
       "    </tr>\n",
       "    <tr>\n",
       "      <th>50%</th>\n",
       "      <td>52.000000</td>\n",
       "      <td>13.000000</td>\n",
       "      <td>1.000000</td>\n",
       "    </tr>\n",
       "    <tr>\n",
       "      <th>75%</th>\n",
       "      <td>90.000000</td>\n",
       "      <td>22.000000</td>\n",
       "      <td>2.000000</td>\n",
       "    </tr>\n",
       "    <tr>\n",
       "      <th>max</th>\n",
       "      <td>910.000000</td>\n",
       "      <td>220.000000</td>\n",
       "      <td>28.000000</td>\n",
       "    </tr>\n",
       "  </tbody>\n",
       "</table>\n",
       "</div>"
      ],
      "text/plain": [
       "       num_characters    num_words  num_sentences\n",
       "count     4516.000000  4516.000000    4516.000000\n",
       "mean        70.459256    17.120903       1.799601\n",
       "std         56.358207    13.493725       1.278465\n",
       "min          2.000000     1.000000       1.000000\n",
       "25%         34.000000     8.000000       1.000000\n",
       "50%         52.000000    13.000000       1.000000\n",
       "75%         90.000000    22.000000       2.000000\n",
       "max        910.000000   220.000000      28.000000"
      ]
     },
     "execution_count": 29,
     "metadata": {},
     "output_type": "execute_result"
    }
   ],
   "source": [
    "# ham\n",
    "df[df['target']==0][['num_characters', 'num_words', 'num_sentences']].describe()"
   ]
  },
  {
   "cell_type": "code",
   "execution_count": 30,
   "id": "9f38ddd0",
   "metadata": {
    "execution": {
     "iopub.execute_input": "2022-08-20T18:00:18.881642Z",
     "iopub.status.busy": "2022-08-20T18:00:18.880591Z",
     "iopub.status.idle": "2022-08-20T18:00:18.905700Z",
     "shell.execute_reply": "2022-08-20T18:00:18.904505Z"
    },
    "papermill": {
     "duration": 0.050828,
     "end_time": "2022-08-20T18:00:18.908260",
     "exception": false,
     "start_time": "2022-08-20T18:00:18.857432",
     "status": "completed"
    },
    "tags": []
   },
   "outputs": [
    {
     "data": {
      "text/html": [
       "<div>\n",
       "<style scoped>\n",
       "    .dataframe tbody tr th:only-of-type {\n",
       "        vertical-align: middle;\n",
       "    }\n",
       "\n",
       "    .dataframe tbody tr th {\n",
       "        vertical-align: top;\n",
       "    }\n",
       "\n",
       "    .dataframe thead th {\n",
       "        text-align: right;\n",
       "    }\n",
       "</style>\n",
       "<table border=\"1\" class=\"dataframe\">\n",
       "  <thead>\n",
       "    <tr style=\"text-align: right;\">\n",
       "      <th></th>\n",
       "      <th>num_characters</th>\n",
       "      <th>num_words</th>\n",
       "      <th>num_sentences</th>\n",
       "    </tr>\n",
       "  </thead>\n",
       "  <tbody>\n",
       "    <tr>\n",
       "      <th>count</th>\n",
       "      <td>653.000000</td>\n",
       "      <td>653.000000</td>\n",
       "      <td>653.000000</td>\n",
       "    </tr>\n",
       "    <tr>\n",
       "      <th>mean</th>\n",
       "      <td>137.891271</td>\n",
       "      <td>27.667688</td>\n",
       "      <td>2.967841</td>\n",
       "    </tr>\n",
       "    <tr>\n",
       "      <th>std</th>\n",
       "      <td>30.137753</td>\n",
       "      <td>7.008418</td>\n",
       "      <td>1.483201</td>\n",
       "    </tr>\n",
       "    <tr>\n",
       "      <th>min</th>\n",
       "      <td>13.000000</td>\n",
       "      <td>2.000000</td>\n",
       "      <td>1.000000</td>\n",
       "    </tr>\n",
       "    <tr>\n",
       "      <th>25%</th>\n",
       "      <td>132.000000</td>\n",
       "      <td>25.000000</td>\n",
       "      <td>2.000000</td>\n",
       "    </tr>\n",
       "    <tr>\n",
       "      <th>50%</th>\n",
       "      <td>149.000000</td>\n",
       "      <td>29.000000</td>\n",
       "      <td>3.000000</td>\n",
       "    </tr>\n",
       "    <tr>\n",
       "      <th>75%</th>\n",
       "      <td>157.000000</td>\n",
       "      <td>32.000000</td>\n",
       "      <td>4.000000</td>\n",
       "    </tr>\n",
       "    <tr>\n",
       "      <th>max</th>\n",
       "      <td>224.000000</td>\n",
       "      <td>46.000000</td>\n",
       "      <td>8.000000</td>\n",
       "    </tr>\n",
       "  </tbody>\n",
       "</table>\n",
       "</div>"
      ],
      "text/plain": [
       "       num_characters   num_words  num_sentences\n",
       "count      653.000000  653.000000     653.000000\n",
       "mean       137.891271   27.667688       2.967841\n",
       "std         30.137753    7.008418       1.483201\n",
       "min         13.000000    2.000000       1.000000\n",
       "25%        132.000000   25.000000       2.000000\n",
       "50%        149.000000   29.000000       3.000000\n",
       "75%        157.000000   32.000000       4.000000\n",
       "max        224.000000   46.000000       8.000000"
      ]
     },
     "execution_count": 30,
     "metadata": {},
     "output_type": "execute_result"
    }
   ],
   "source": [
    "# spam\n",
    "df[df['target']==1][['num_characters', 'num_words', 'num_sentences']].describe()"
   ]
  },
  {
   "cell_type": "code",
   "execution_count": 31,
   "id": "96e68de4",
   "metadata": {
    "execution": {
     "iopub.execute_input": "2022-08-20T18:00:18.954447Z",
     "iopub.status.busy": "2022-08-20T18:00:18.953654Z",
     "iopub.status.idle": "2022-08-20T18:00:19.127182Z",
     "shell.execute_reply": "2022-08-20T18:00:19.125978Z"
    },
    "papermill": {
     "duration": 0.199727,
     "end_time": "2022-08-20T18:00:19.130401",
     "exception": false,
     "start_time": "2022-08-20T18:00:18.930674",
     "status": "completed"
    },
    "tags": []
   },
   "outputs": [],
   "source": [
    "import seaborn as sns"
   ]
  },
  {
   "cell_type": "code",
   "execution_count": 32,
   "id": "54c9babc",
   "metadata": {
    "execution": {
     "iopub.execute_input": "2022-08-20T18:00:19.174779Z",
     "iopub.status.busy": "2022-08-20T18:00:19.174376Z",
     "iopub.status.idle": "2022-08-20T18:00:19.676942Z",
     "shell.execute_reply": "2022-08-20T18:00:19.674809Z"
    },
    "papermill": {
     "duration": 0.527883,
     "end_time": "2022-08-20T18:00:19.679565",
     "exception": false,
     "start_time": "2022-08-20T18:00:19.151682",
     "status": "completed"
    },
    "tags": []
   },
   "outputs": [
    {
     "data": {
      "text/plain": [
       "<AxesSubplot:xlabel='num_characters', ylabel='Count'>"
      ]
     },
     "execution_count": 32,
     "metadata": {},
     "output_type": "execute_result"
    },
    {
     "data": {
      "image/png": "[encoded data removed]",
      "text/plain": [
       "<Figure size 864x576 with 1 Axes>"
      ]
     },
     "metadata": {
      "needs_background": "light"
     },
     "output_type": "display_data"
    }
   ],
   "source": [
    "plt.figure(figsize=(12, 8))\n",
    "sns.histplot(df[df['target']==0]['num_characters'])\n",
    "sns.histplot(df[df['target']==1]['num_characters'], color='red')"
   ]
  },
  {
   "cell_type": "code",
   "execution_count": 33,
   "id": "6296677b",
   "metadata": {
    "execution": {
     "iopub.execute_input": "2022-08-20T18:00:19.724522Z",
     "iopub.status.busy": "2022-08-20T18:00:19.723791Z",
     "iopub.status.idle": "2022-08-20T18:00:20.189308Z",
     "shell.execute_reply": "2022-08-20T18:00:20.188458Z"
    },
    "papermill": {
     "duration": 0.490779,
     "end_time": "2022-08-20T18:00:20.191588",
     "exception": false,
     "start_time": "2022-08-20T18:00:19.700809",
     "status": "completed"
    },
    "tags": []
   },
   "outputs": [
    {
     "data": {
      "text/plain": [
       "<AxesSubplot:xlabel='num_words', ylabel='Count'>"
      ]
     },
     "execution_count": 33,
     "metadata": {},
     "output_type": "execute_result"
    },
    {
     "data": {
      "image/png": "[encoded data removed]",
      "text/plain": [
       "<Figure size 864x576 with 1 Axes>"
      ]
     },
     "metadata": {
      "needs_background": "light"
     },
     "output_type": "display_data"
    }
   ],
   "source": [
    "plt.figure(figsize=(12, 8))\n",
    "sns.histplot(df[df['target']==0]['num_words'])\n",
    "sns.histplot(df[df['target']==1]['num_words'], color='red')"
   ]
  },
  {
   "cell_type": "code",
   "execution_count": 34,
   "id": "9043cb84",
   "metadata": {
    "execution": {
     "iopub.execute_input": "2022-08-20T18:00:20.238117Z",
     "iopub.status.busy": "2022-08-20T18:00:20.236772Z",
     "iopub.status.idle": "2022-08-20T18:00:21.056873Z",
     "shell.execute_reply": "2022-08-20T18:00:21.055660Z"
    },
    "papermill": {
     "duration": 0.845785,
     "end_time": "2022-08-20T18:00:21.059633",
     "exception": false,
     "start_time": "2022-08-20T18:00:20.213848",
     "status": "completed"
    },
    "tags": []
   },
   "outputs": [
    {
     "data": {
      "text/plain": [
       "<AxesSubplot:xlabel='num_sentences', ylabel='Count'>"
      ]
     },
     "execution_count": 34,
     "metadata": {},
     "output_type": "execute_result"
    },
    {
     "data": {
      "image/png": "[encoded data removed]",
      "text/plain": [
       "<Figure size 864x576 with 1 Axes>"
      ]
     },
     "metadata": {
      "needs_background": "light"
     },
     "output_type": "display_data"
    }
   ],
   "source": [
    "plt.figure(figsize=(12, 8))\n",
    "sns.histplot(df[df['target']==0]['num_sentences'])\n",
    "sns.histplot(df[df['target']==1]['num_sentences'], color='red')"
   ]
  },
  {
   "cell_type": "code",
   "execution_count": 35,
   "id": "14268b00",
   "metadata": {
    "execution": {
     "iopub.execute_input": "2022-08-20T18:00:21.106603Z",
     "iopub.status.busy": "2022-08-20T18:00:21.105685Z",
     "iopub.status.idle": "2022-08-20T18:00:25.221063Z",
     "shell.execute_reply": "2022-08-20T18:00:25.219860Z"
    },
    "papermill": {
     "duration": 4.142509,
     "end_time": "2022-08-20T18:00:25.224180",
     "exception": false,
     "start_time": "2022-08-20T18:00:21.081671",
     "status": "completed"
    },
    "tags": []
   },
   "outputs": [
    {
     "data": {
      "text/plain": [
       "<seaborn.axisgrid.PairGrid at 0x7f8b58111b10>"
      ]
     },
     "execution_count": 35,
     "metadata": {},
     "output_type": "execute_result"
    },
    {
     "data": {
      "image/png": "[encoded data removed]",
      "text/plain": [
       "<Figure size 582.375x540 with 12 Axes>"
      ]
     },
     "metadata": {
      "needs_background": "light"
     },
     "output_type": "display_data"
    }
   ],
   "source": [
    "sns.pairplot(df, hue='target')"
   ]
  },
  {
   "cell_type": "code",
   "execution_count": 36,
   "id": "70ef7779",
   "metadata": {
    "execution": {
     "iopub.execute_input": "2022-08-20T18:00:25.277084Z",
     "iopub.status.busy": "2022-08-20T18:00:25.275857Z",
     "iopub.status.idle": "2022-08-20T18:00:25.292495Z",
     "shell.execute_reply": "2022-08-20T18:00:25.291124Z"
    },
    "papermill": {
     "duration": 0.045,
     "end_time": "2022-08-20T18:00:25.294883",
     "exception": false,
     "start_time": "2022-08-20T18:00:25.249883",
     "status": "completed"
    },
    "tags": []
   },
   "outputs": [
    {
     "data": {
      "text/html": [
       "<div>\n",
       "<style scoped>\n",
       "    .dataframe tbody tr th:only-of-type {\n",
       "        vertical-align: middle;\n",
       "    }\n",
       "\n",
       "    .dataframe tbody tr th {\n",
       "        vertical-align: top;\n",
       "    }\n",
       "\n",
       "    .dataframe thead th {\n",
       "        text-align: right;\n",
       "    }\n",
       "</style>\n",
       "<table border=\"1\" class=\"dataframe\">\n",
       "  <thead>\n",
       "    <tr style=\"text-align: right;\">\n",
       "      <th></th>\n",
       "      <th>target</th>\n",
       "      <th>num_characters</th>\n",
       "      <th>num_words</th>\n",
       "      <th>num_sentences</th>\n",
       "    </tr>\n",
       "  </thead>\n",
       "  <tbody>\n",
       "    <tr>\n",
       "      <th>target</th>\n",
       "      <td>1.000000</td>\n",
       "      <td>0.384717</td>\n",
       "      <td>0.262984</td>\n",
       "      <td>0.284901</td>\n",
       "    </tr>\n",
       "    <tr>\n",
       "      <th>num_characters</th>\n",
       "      <td>0.384717</td>\n",
       "      <td>1.000000</td>\n",
       "      <td>0.965770</td>\n",
       "      <td>0.638143</td>\n",
       "    </tr>\n",
       "    <tr>\n",
       "      <th>num_words</th>\n",
       "      <td>0.262984</td>\n",
       "      <td>0.965770</td>\n",
       "      <td>1.000000</td>\n",
       "      <td>0.684541</td>\n",
       "    </tr>\n",
       "    <tr>\n",
       "      <th>num_sentences</th>\n",
       "      <td>0.284901</td>\n",
       "      <td>0.638143</td>\n",
       "      <td>0.684541</td>\n",
       "      <td>1.000000</td>\n",
       "    </tr>\n",
       "  </tbody>\n",
       "</table>\n",
       "</div>"
      ],
      "text/plain": [
       "                  target  num_characters  num_words  num_sentences\n",
       "target          1.000000        0.384717   0.262984       0.284901\n",
       "num_characters  0.384717        1.000000   0.965770       0.638143\n",
       "num_words       0.262984        0.965770   1.000000       0.684541\n",
       "num_sentences   0.284901        0.638143   0.684541       1.000000"
      ]
     },
     "execution_count": 36,
     "metadata": {},
     "output_type": "execute_result"
    }
   ],
   "source": [
    "df.corr()"
   ]
  },
  {
   "cell_type": "code",
   "execution_count": 37,
   "id": "4d1de0fc",
   "metadata": {
    "execution": {
     "iopub.execute_input": "2022-08-20T18:00:25.345212Z",
     "iopub.status.busy": "2022-08-20T18:00:25.344354Z",
     "iopub.status.idle": "2022-08-20T18:00:25.648921Z",
     "shell.execute_reply": "2022-08-20T18:00:25.647347Z"
    },
    "papermill": {
     "duration": 0.332808,
     "end_time": "2022-08-20T18:00:25.651749",
     "exception": false,
     "start_time": "2022-08-20T18:00:25.318941",
     "status": "completed"
    },
    "tags": []
   },
   "outputs": [
    {
     "data": {
      "text/plain": [
       "<AxesSubplot:>"
      ]
     },
     "execution_count": 37,
     "metadata": {},
     "output_type": "execute_result"
    },
    {
     "data": {
      "image/png": "[encoded data removed]",
      "text/plain": [
       "<Figure size 432x288 with 2 Axes>"
      ]
     },
     "metadata": {
      "needs_background": "light"
     },
     "output_type": "display_data"
    }
   ],
   "source": [
    "sns.heatmap(df.corr(), annot=True)"
   ]
  },
  {
   "cell_type": "code",
   "execution_count": 38,
   "id": "cb8fa4f3",
   "metadata": {
    "execution": {
     "iopub.execute_input": "2022-08-20T18:00:25.707416Z",
     "iopub.status.busy": "2022-08-20T18:00:25.706962Z",
     "iopub.status.idle": "2022-08-20T18:00:25.723273Z",
     "shell.execute_reply": "2022-08-20T18:00:25.721865Z"
    },
    "papermill": {
     "duration": 0.047976,
     "end_time": "2022-08-20T18:00:25.726420",
     "exception": false,
     "start_time": "2022-08-20T18:00:25.678444",
     "status": "completed"
    },
    "tags": []
   },
   "outputs": [
    {
     "data": {
      "text/plain": [
       "['i',\n",
       " 'me',\n",
       " 'my',\n",
       " 'myself',\n",
       " 'we',\n",
       " 'our',\n",
       " 'ours',\n",
       " 'ourselves',\n",
       " 'you',\n",
       " \"you're\",\n",
       " \"you've\",\n",
       " \"you'll\",\n",
       " \"you'd\",\n",
       " 'your',\n",
       " 'yours',\n",
       " 'yourself',\n",
       " 'yourselves',\n",
       " 'he',\n",
       " 'him',\n",
       " 'his',\n",
       " 'himself',\n",
       " 'she',\n",
       " \"she's\",\n",
       " 'her',\n",
       " 'hers',\n",
       " 'herself',\n",
       " 'it',\n",
       " \"it's\",\n",
       " 'its',\n",
       " 'itself',\n",
       " 'they',\n",
       " 'them',\n",
       " 'their',\n",
       " 'theirs',\n",
       " 'themselves',\n",
       " 'what',\n",
       " 'which',\n",
       " 'who',\n",
       " 'whom',\n",
       " 'this',\n",
       " 'that',\n",
       " \"that'll\",\n",
       " 'these',\n",
       " 'those',\n",
       " 'am',\n",
       " 'is',\n",
       " 'are',\n",
       " 'was',\n",
       " 'were',\n",
       " 'be',\n",
       " 'been',\n",
       " 'being',\n",
       " 'have',\n",
       " 'has',\n",
       " 'had',\n",
       " 'having',\n",
       " 'do',\n",
       " 'does',\n",
       " 'did',\n",
       " 'doing',\n",
       " 'a',\n",
       " 'an',\n",
       " 'the',\n",
       " 'and',\n",
       " 'but',\n",
       " 'if',\n",
       " 'or',\n",
       " 'because',\n",
       " 'as',\n",
       " 'until',\n",
       " 'while',\n",
       " 'of',\n",
       " 'at',\n",
       " 'by',\n",
       " 'for',\n",
       " 'with',\n",
       " 'about',\n",
       " 'against',\n",
       " 'between',\n",
       " 'into',\n",
       " 'through',\n",
       " 'during',\n",
       " 'before',\n",
       " 'after',\n",
       " 'above',\n",
       " 'below',\n",
       " 'to',\n",
       " 'from',\n",
       " 'up',\n",
       " 'down',\n",
       " 'in',\n",
       " 'out',\n",
       " 'on',\n",
       " 'off',\n",
       " 'over',\n",
       " 'under',\n",
       " 'again',\n",
       " 'further',\n",
       " 'then',\n",
       " 'once',\n",
       " 'here',\n",
       " 'there',\n",
       " 'when',\n",
       " 'where',\n",
       " 'why',\n",
       " 'how',\n",
       " 'all',\n",
       " 'any',\n",
       " 'both',\n",
       " 'each',\n",
       " 'few',\n",
       " 'more',\n",
       " 'most',\n",
       " 'other',\n",
       " 'some',\n",
       " 'such',\n",
       " 'no',\n",
       " 'nor',\n",
       " 'not',\n",
       " 'only',\n",
       " 'own',\n",
       " 'same',\n",
       " 'so',\n",
       " 'than',\n",
       " 'too',\n",
       " 'very',\n",
       " 's',\n",
       " 't',\n",
       " 'can',\n",
       " 'will',\n",
       " 'just',\n",
       " 'don',\n",
       " \"don't\",\n",
       " 'should',\n",
       " \"should've\",\n",
       " 'now',\n",
       " 'd',\n",
       " 'll',\n",
       " 'm',\n",
       " 'o',\n",
       " 're',\n",
       " 've',\n",
       " 'y',\n",
       " 'ain',\n",
       " 'aren',\n",
       " \"aren't\",\n",
       " 'couldn',\n",
       " \"couldn't\",\n",
       " 'didn',\n",
       " \"didn't\",\n",
       " 'doesn',\n",
       " \"doesn't\",\n",
       " 'hadn',\n",
       " \"hadn't\",\n",
       " 'hasn',\n",
       " \"hasn't\",\n",
       " 'haven',\n",
       " \"haven't\",\n",
       " 'isn',\n",
       " \"isn't\",\n",
       " 'ma',\n",
       " 'mightn',\n",
       " \"mightn't\",\n",
       " 'mustn',\n",
       " \"mustn't\",\n",
       " 'needn',\n",
       " \"needn't\",\n",
       " 'shan',\n",
       " \"shan't\",\n",
       " 'shouldn',\n",
       " \"shouldn't\",\n",
       " 'wasn',\n",
       " \"wasn't\",\n",
       " 'weren',\n",
       " \"weren't\",\n",
       " 'won',\n",
       " \"won't\",\n",
       " 'wouldn',\n",
       " \"wouldn't\"]"
      ]
     },
     "execution_count": 38,
     "metadata": {},
     "output_type": "execute_result"
    }
   ],
   "source": [
    "from nltk.corpus import stopwords\n",
    "stopwords.words('english')"
   ]
  },
  {
   "cell_type": "code",
   "execution_count": 39,
   "id": "51020467",
   "metadata": {
    "execution": {
     "iopub.execute_input": "2022-08-20T18:00:25.782426Z",
     "iopub.status.busy": "2022-08-20T18:00:25.781693Z",
     "iopub.status.idle": "2022-08-20T18:00:25.789830Z",
     "shell.execute_reply": "2022-08-20T18:00:25.788697Z"
    },
    "papermill": {
     "duration": 0.039531,
     "end_time": "2022-08-20T18:00:25.792303",
     "exception": false,
     "start_time": "2022-08-20T18:00:25.752772",
     "status": "completed"
    },
    "tags": []
   },
   "outputs": [
    {
     "data": {
      "text/plain": [
       "'danc'"
      ]
     },
     "execution_count": 39,
     "metadata": {},
     "output_type": "execute_result"
    }
   ],
   "source": [
    "from nltk.stem.porter import PorterStemmer\n",
    "ps = PorterStemmer()\n",
    "ps.stem('dancing')"
   ]
  },
  {
   "cell_type": "code",
   "execution_count": 40,
   "id": "5b78b7e4",
   "metadata": {
    "execution": {
     "iopub.execute_input": "2022-08-20T18:00:25.845649Z",
     "iopub.status.busy": "2022-08-20T18:00:25.844716Z",
     "iopub.status.idle": "2022-08-20T18:00:25.852281Z",
     "shell.execute_reply": "2022-08-20T18:00:25.850991Z"
    },
    "papermill": {
     "duration": 0.036911,
     "end_time": "2022-08-20T18:00:25.854669",
     "exception": false,
     "start_time": "2022-08-20T18:00:25.817758",
     "status": "completed"
    },
    "tags": []
   },
   "outputs": [
    {
     "data": {
      "text/plain": [
       "'!\"#$%&\\'()*+,-./:;<=>?@[\\\\]^_`{|}~'"
      ]
     },
     "execution_count": 40,
     "metadata": {},
     "output_type": "execute_result"
    }
   ],
   "source": [
    "import string\n",
    "string.punctuation"
   ]
  },
  {
   "cell_type": "code",
   "execution_count": 41,
   "id": "9e3157c7",
   "metadata": {
    "execution": {
     "iopub.execute_input": "2022-08-20T18:00:25.908119Z",
     "iopub.status.busy": "2022-08-20T18:00:25.907420Z",
     "iopub.status.idle": "2022-08-20T18:00:25.914937Z",
     "shell.execute_reply": "2022-08-20T18:00:25.913989Z"
    },
    "papermill": {
     "duration": 0.037361,
     "end_time": "2022-08-20T18:00:25.917604",
     "exception": false,
     "start_time": "2022-08-20T18:00:25.880243",
     "status": "completed"
    },
    "tags": []
   },
   "outputs": [],
   "source": [
    "def transform_text(text):\n",
    "    text = text.lower()\n",
    "    text = nltk.word_tokenize(text)\n",
    "    \n",
    "    y = []\n",
    "    for i in text:\n",
    "        if i.isalnum():\n",
    "            y.append(i)\n",
    "            \n",
    "    text = y[:]\n",
    "    y.clear()\n",
    "    \n",
    "    for i in text:\n",
    "        if i not in stopwords.words('english') and i not in string.punctuation:\n",
    "            y.append(i)\n",
    "            \n",
    "    text = y[:]\n",
    "    y.clear()\n",
    "    \n",
    "    for i in text:\n",
    "        y.append(ps.stem(i))\n",
    "            \n",
    "    return \" \".join(y)"
   ]
  },
  {
   "cell_type": "code",
   "execution_count": 42,
   "id": "a724200c",
   "metadata": {
    "execution": {
     "iopub.execute_input": "2022-08-20T18:00:25.971088Z",
     "iopub.status.busy": "2022-08-20T18:00:25.970301Z",
     "iopub.status.idle": "2022-08-20T18:00:25.978616Z",
     "shell.execute_reply": "2022-08-20T18:00:25.977404Z"
    },
    "papermill": {
     "duration": 0.037943,
     "end_time": "2022-08-20T18:00:25.980910",
     "exception": false,
     "start_time": "2022-08-20T18:00:25.942967",
     "status": "completed"
    },
    "tags": []
   },
   "outputs": [
    {
     "data": {
      "text/plain": [
       "'love machin learn'"
      ]
     },
     "execution_count": 42,
     "metadata": {},
     "output_type": "execute_result"
    }
   ],
   "source": [
    "transform_text('I loved the Machine Learning')"
   ]
  },
  {
   "cell_type": "code",
   "execution_count": 43,
   "id": "cc90bdad",
   "metadata": {
    "execution": {
     "iopub.execute_input": "2022-08-20T18:00:26.033668Z",
     "iopub.status.busy": "2022-08-20T18:00:26.033269Z",
     "iopub.status.idle": "2022-08-20T18:00:39.966655Z",
     "shell.execute_reply": "2022-08-20T18:00:39.965561Z"
    },
    "papermill": {
     "duration": 13.963203,
     "end_time": "2022-08-20T18:00:39.969628",
     "exception": false,
     "start_time": "2022-08-20T18:00:26.006425",
     "status": "completed"
    },
    "tags": []
   },
   "outputs": [],
   "source": [
    "df['tranformed_text'] = df['text'].apply(transform_text)"
   ]
  },
  {
   "cell_type": "code",
   "execution_count": 44,
   "id": "50d1be49",
   "metadata": {
    "execution": {
     "iopub.execute_input": "2022-08-20T18:00:40.023894Z",
     "iopub.status.busy": "2022-08-20T18:00:40.023463Z",
     "iopub.status.idle": "2022-08-20T18:00:40.036155Z",
     "shell.execute_reply": "2022-08-20T18:00:40.035091Z"
    },
    "papermill": {
     "duration": 0.04277,
     "end_time": "2022-08-20T18:00:40.038380",
     "exception": false,
     "start_time": "2022-08-20T18:00:39.995610",
     "status": "completed"
    },
    "tags": []
   },
   "outputs": [
    {
     "data": {
      "text/html": [
       "<div>\n",
       "<style scoped>\n",
       "    .dataframe tbody tr th:only-of-type {\n",
       "        vertical-align: middle;\n",
       "    }\n",
       "\n",
       "    .dataframe tbody tr th {\n",
       "        vertical-align: top;\n",
       "    }\n",
       "\n",
       "    .dataframe thead th {\n",
       "        text-align: right;\n",
       "    }\n",
       "</style>\n",
       "<table border=\"1\" class=\"dataframe\">\n",
       "  <thead>\n",
       "    <tr style=\"text-align: right;\">\n",
       "      <th></th>\n",
       "      <th>target</th>\n",
       "      <th>text</th>\n",
       "      <th>num_characters</th>\n",
       "      <th>num_words</th>\n",
       "      <th>num_sentences</th>\n",
       "      <th>tranformed_text</th>\n",
       "    </tr>\n",
       "  </thead>\n",
       "  <tbody>\n",
       "    <tr>\n",
       "      <th>0</th>\n",
       "      <td>0</td>\n",
       "      <td>Go until jurong point, crazy.. Available only ...</td>\n",
       "      <td>111</td>\n",
       "      <td>24</td>\n",
       "      <td>2</td>\n",
       "      <td>go jurong point crazi avail bugi n great world...</td>\n",
       "    </tr>\n",
       "    <tr>\n",
       "      <th>1</th>\n",
       "      <td>0</td>\n",
       "      <td>Ok lar... Joking wif u oni...</td>\n",
       "      <td>29</td>\n",
       "      <td>8</td>\n",
       "      <td>2</td>\n",
       "      <td>ok lar joke wif u oni</td>\n",
       "    </tr>\n",
       "    <tr>\n",
       "      <th>2</th>\n",
       "      <td>1</td>\n",
       "      <td>Free entry in 2 a wkly comp to win FA Cup fina...</td>\n",
       "      <td>155</td>\n",
       "      <td>37</td>\n",
       "      <td>2</td>\n",
       "      <td>free entri 2 wkli comp win fa cup final tkt 21...</td>\n",
       "    </tr>\n",
       "    <tr>\n",
       "      <th>3</th>\n",
       "      <td>0</td>\n",
       "      <td>U dun say so early hor... U c already then say...</td>\n",
       "      <td>49</td>\n",
       "      <td>13</td>\n",
       "      <td>1</td>\n",
       "      <td>u dun say earli hor u c alreadi say</td>\n",
       "    </tr>\n",
       "    <tr>\n",
       "      <th>4</th>\n",
       "      <td>0</td>\n",
       "      <td>Nah I don't think he goes to usf, he lives aro...</td>\n",
       "      <td>61</td>\n",
       "      <td>15</td>\n",
       "      <td>1</td>\n",
       "      <td>nah think goe usf live around though</td>\n",
       "    </tr>\n",
       "  </tbody>\n",
       "</table>\n",
       "</div>"
      ],
      "text/plain": [
       "   target                                               text  num_characters  \\\n",
       "0       0  Go until jurong point, crazy.. Available only ...             111   \n",
       "1       0                      Ok lar... Joking wif u oni...              29   \n",
       "2       1  Free entry in 2 a wkly comp to win FA Cup fina...             155   \n",
       "3       0  U dun say so early hor... U c already then say...              49   \n",
       "4       0  Nah I don't think he goes to usf, he lives aro...              61   \n",
       "\n",
       "   num_words  num_sentences                                    tranformed_text  \n",
       "0         24              2  go jurong point crazi avail bugi n great world...  \n",
       "1          8              2                              ok lar joke wif u oni  \n",
       "2         37              2  free entri 2 wkli comp win fa cup final tkt 21...  \n",
       "3         13              1                u dun say earli hor u c alreadi say  \n",
       "4         15              1               nah think goe usf live around though  "
      ]
     },
     "execution_count": 44,
     "metadata": {},
     "output_type": "execute_result"
    }
   ],
   "source": [
    "df.head()"
   ]
  },
  {
   "cell_type": "code",
   "execution_count": 45,
   "id": "3ec43b93",
   "metadata": {
    "execution": {
     "iopub.execute_input": "2022-08-20T18:00:40.091454Z",
     "iopub.status.busy": "2022-08-20T18:00:40.090773Z",
     "iopub.status.idle": "2022-08-20T18:00:40.127113Z",
     "shell.execute_reply": "2022-08-20T18:00:40.126083Z"
    },
    "papermill": {
     "duration": 0.065921,
     "end_time": "2022-08-20T18:00:40.129734",
     "exception": false,
     "start_time": "2022-08-20T18:00:40.063813",
     "status": "completed"
    },
    "tags": []
   },
   "outputs": [],
   "source": [
    "from wordcloud import WordCloud\n",
    "wc = WordCloud(width=500, height=500, min_font_size=10, background_color='white')"
   ]
  },
  {
   "cell_type": "code",
   "execution_count": 46,
   "id": "c1d21ca3",
   "metadata": {
    "execution": {
     "iopub.execute_input": "2022-08-20T18:00:40.182457Z",
     "iopub.status.busy": "2022-08-20T18:00:40.181623Z",
     "iopub.status.idle": "2022-08-20T18:00:40.573789Z",
     "shell.execute_reply": "2022-08-20T18:00:40.572536Z"
    },
    "papermill": {
     "duration": 0.421418,
     "end_time": "2022-08-20T18:00:40.576746",
     "exception": false,
     "start_time": "2022-08-20T18:00:40.155328",
     "status": "completed"
    },
    "tags": []
   },
   "outputs": [],
   "source": [
    "spam_wc = wc.generate(df[df['target']==1]['tranformed_text'].str.cat(sep=' '))"
   ]
  },
  {
   "cell_type": "code",
   "execution_count": 47,
   "id": "4b5f7404",
   "metadata": {
    "execution": {
     "iopub.execute_input": "2022-08-20T18:00:40.628019Z",
     "iopub.status.busy": "2022-08-20T18:00:40.627524Z",
     "iopub.status.idle": "2022-08-20T18:00:40.920844Z",
     "shell.execute_reply": "2022-08-20T18:00:40.919084Z"
    },
    "papermill": {
     "duration": 0.322399,
     "end_time": "2022-08-20T18:00:40.923874",
     "exception": false,
     "start_time": "2022-08-20T18:00:40.601475",
     "status": "completed"
    },
    "tags": []
   },
   "outputs": [
    {
     "data": {
      "text/plain": [
       "<matplotlib.image.AxesImage at 0x7f8b4df767d0>"
      ]
     },
     "execution_count": 47,
     "metadata": {},
     "output_type": "execute_result"
    },
    {
     "data": {
      "image/png": "[encoded data removed]",
      "text/plain": [
       "<Figure size 864x432 with 1 Axes>"
      ]
     },
     "metadata": {
      "needs_background": "light"
     },
     "output_type": "display_data"
    }
   ],
   "source": [
    "plt.figure(figsize=(12, 6))\n",
    "plt.imshow(spam_wc)"
   ]
  },
  {
   "cell_type": "code",
   "execution_count": 48,
   "id": "c0e196a2",
   "metadata": {
    "execution": {
     "iopub.execute_input": "2022-08-20T18:00:40.981090Z",
     "iopub.status.busy": "2022-08-20T18:00:40.980405Z",
     "iopub.status.idle": "2022-08-20T18:00:41.817636Z",
     "shell.execute_reply": "2022-08-20T18:00:41.816669Z"
    },
    "papermill": {
     "duration": 0.869131,
     "end_time": "2022-08-20T18:00:41.820481",
     "exception": false,
     "start_time": "2022-08-20T18:00:40.951350",
     "status": "completed"
    },
    "tags": []
   },
   "outputs": [],
   "source": [
    "ham_wc = wc.generate(df[df['target']==0]['tranformed_text'].str.cat(sep=' '))"
   ]
  },
  {
   "cell_type": "code",
   "execution_count": 49,
   "id": "347d0599",
   "metadata": {
    "execution": {
     "iopub.execute_input": "2022-08-20T18:00:41.877250Z",
     "iopub.status.busy": "2022-08-20T18:00:41.876806Z",
     "iopub.status.idle": "2022-08-20T18:00:42.194551Z",
     "shell.execute_reply": "2022-08-20T18:00:42.193212Z"
    },
    "papermill": {
     "duration": 0.350959,
     "end_time": "2022-08-20T18:00:42.199041",
     "exception": false,
     "start_time": "2022-08-20T18:00:41.848082",
     "status": "completed"
    },
    "tags": []
   },
   "outputs": [
    {
     "data": {
      "text/plain": [
       "<matplotlib.image.AxesImage at 0x7f8b4df86b10>"
      ]
     },
     "execution_count": 49,
     "metadata": {},
     "output_type": "execute_result"
    },
    {
     "data": {
      "image/png": "[encoded data removed]",
      "text/plain": [
       "<Figure size 864x432 with 1 Axes>"
      ]
     },
     "metadata": {
      "needs_background": "light"
     },
     "output_type": "display_data"
    }
   ],
   "source": [
    "plt.figure(figsize=(12, 6))\n",
    "plt.imshow(ham_wc)"
   ]
  },
  {
   "cell_type": "code",
   "execution_count": 50,
   "id": "185e52a1",
   "metadata": {
    "execution": {
     "iopub.execute_input": "2022-08-20T18:00:42.262430Z",
     "iopub.status.busy": "2022-08-20T18:00:42.261273Z",
     "iopub.status.idle": "2022-08-20T18:00:42.271259Z",
     "shell.execute_reply": "2022-08-20T18:00:42.270329Z"
    },
    "papermill": {
     "duration": 0.044395,
     "end_time": "2022-08-20T18:00:42.273901",
     "exception": false,
     "start_time": "2022-08-20T18:00:42.229506",
     "status": "completed"
    },
    "tags": []
   },
   "outputs": [],
   "source": [
    "spam_corpus = []\n",
    "for msg in df[df['target']==1]['tranformed_text'].tolist():\n",
    "    for word in msg.split():\n",
    "        spam_corpus.append(word)     "
   ]
  },
  {
   "cell_type": "code",
   "execution_count": 51,
   "id": "0e54d80b",
   "metadata": {
    "execution": {
     "iopub.execute_input": "2022-08-20T18:00:42.337315Z",
     "iopub.status.busy": "2022-08-20T18:00:42.336431Z",
     "iopub.status.idle": "2022-08-20T18:00:42.343942Z",
     "shell.execute_reply": "2022-08-20T18:00:42.342789Z"
    },
    "papermill": {
     "duration": 0.041706,
     "end_time": "2022-08-20T18:00:42.346295",
     "exception": false,
     "start_time": "2022-08-20T18:00:42.304589",
     "status": "completed"
    },
    "tags": []
   },
   "outputs": [
    {
     "data": {
      "text/plain": [
       "9939"
      ]
     },
     "execution_count": 51,
     "metadata": {},
     "output_type": "execute_result"
    }
   ],
   "source": [
    "len(spam_corpus)"
   ]
  },
  {
   "cell_type": "code",
   "execution_count": 52,
   "id": "62b0546e",
   "metadata": {
    "execution": {
     "iopub.execute_input": "2022-08-20T18:00:42.409629Z",
     "iopub.status.busy": "2022-08-20T18:00:42.408779Z",
     "iopub.status.idle": "2022-08-20T18:00:42.414331Z",
     "shell.execute_reply": "2022-08-20T18:00:42.413465Z"
    },
    "papermill": {
     "duration": 0.040029,
     "end_time": "2022-08-20T18:00:42.416596",
     "exception": false,
     "start_time": "2022-08-20T18:00:42.376567",
     "status": "completed"
    },
    "tags": []
   },
   "outputs": [],
   "source": [
    "from collections import Counter"
   ]
  },
  {
   "cell_type": "code",
   "execution_count": 53,
   "id": "18f4ec56",
   "metadata": {
    "execution": {
     "iopub.execute_input": "2022-08-20T18:00:42.480126Z",
     "iopub.status.busy": "2022-08-20T18:00:42.479280Z",
     "iopub.status.idle": "2022-08-20T18:00:42.809871Z",
     "shell.execute_reply": "2022-08-20T18:00:42.808652Z"
    },
    "papermill": {
     "duration": 0.365599,
     "end_time": "2022-08-20T18:00:42.812600",
     "exception": false,
     "start_time": "2022-08-20T18:00:42.447001",
     "status": "completed"
    },
    "tags": []
   },
   "outputs": [
    {
     "name": "stderr",
     "output_type": "stream",
     "text": [
      "/opt/conda/lib/python3.7/site-packages/seaborn/_decorators.py:43: FutureWarning: Pass the following variables as keyword args: x, y. From version 0.12, the only valid positional argument will be `data`, and passing other arguments without an explicit keyword will result in an error or misinterpretation.\n",
      "  FutureWarning\n"
     ]
    },
    {
     "data": {
      "image/png": "[encoded data removed]",
      "text/plain": [
       "<Figure size 432x288 with 1 Axes>"
      ]
     },
     "metadata": {
      "needs_background": "light"
     },
     "output_type": "display_data"
    }
   ],
   "source": [
    "sns.barplot(pd.DataFrame(Counter(spam_corpus).most_common(30))[0], pd.DataFrame(Counter(spam_corpus).most_common(30))[1])\n",
    "plt.xticks(rotation='vertical')\n",
    "plt.show()"
   ]
  },
  {
   "cell_type": "code",
   "execution_count": 54,
   "id": "2c4eec66",
   "metadata": {
    "execution": {
     "iopub.execute_input": "2022-08-20T18:00:42.877643Z",
     "iopub.status.busy": "2022-08-20T18:00:42.876510Z",
     "iopub.status.idle": "2022-08-20T18:00:42.892347Z",
     "shell.execute_reply": "2022-08-20T18:00:42.891353Z"
    },
    "papermill": {
     "duration": 0.050809,
     "end_time": "2022-08-20T18:00:42.894907",
     "exception": false,
     "start_time": "2022-08-20T18:00:42.844098",
     "status": "completed"
    },
    "tags": []
   },
   "outputs": [],
   "source": [
    "ham_corpus = []\n",
    "for msg in df[df['target']==0]['tranformed_text'].tolist():\n",
    "    for word in msg.split():\n",
    "        ham_corpus.append(word) "
   ]
  },
  {
   "cell_type": "code",
   "execution_count": 55,
   "id": "2fb80965",
   "metadata": {
    "execution": {
     "iopub.execute_input": "2022-08-20T18:00:42.960387Z",
     "iopub.status.busy": "2022-08-20T18:00:42.959866Z",
     "iopub.status.idle": "2022-08-20T18:00:42.966980Z",
     "shell.execute_reply": "2022-08-20T18:00:42.965668Z"
    },
    "papermill": {
     "duration": 0.043931,
     "end_time": "2022-08-20T18:00:42.970025",
     "exception": false,
     "start_time": "2022-08-20T18:00:42.926094",
     "status": "completed"
    },
    "tags": []
   },
   "outputs": [
    {
     "data": {
      "text/plain": [
       "35394"
      ]
     },
     "execution_count": 55,
     "metadata": {},
     "output_type": "execute_result"
    }
   ],
   "source": [
    "len(ham_corpus)"
   ]
  },
  {
   "cell_type": "code",
   "execution_count": 56,
   "id": "0f01b321",
   "metadata": {
    "execution": {
     "iopub.execute_input": "2022-08-20T18:00:43.036039Z",
     "iopub.status.busy": "2022-08-20T18:00:43.035265Z",
     "iopub.status.idle": "2022-08-20T18:00:43.364488Z",
     "shell.execute_reply": "2022-08-20T18:00:43.362962Z"
    },
    "papermill": {
     "duration": 0.365154,
     "end_time": "2022-08-20T18:00:43.367057",
     "exception": false,
     "start_time": "2022-08-20T18:00:43.001903",
     "status": "completed"
    },
    "tags": []
   },
   "outputs": [
    {
     "name": "stderr",
     "output_type": "stream",
     "text": [
      "/opt/conda/lib/python3.7/site-packages/seaborn/_decorators.py:43: FutureWarning: Pass the following variables as keyword args: x, y. From version 0.12, the only valid positional argument will be `data`, and passing other arguments without an explicit keyword will result in an error or misinterpretation.\n",
      "  FutureWarning\n"
     ]
    },
    {
     "data": {
      "image/png": "[encoded data removed]",
      "text/plain": [
       "<Figure size 432x288 with 1 Axes>"
      ]
     },
     "metadata": {
      "needs_background": "light"
     },
     "output_type": "display_data"
    }
   ],
   "source": [
    "sns.barplot(pd.DataFrame(Counter(ham_corpus).most_common(30))[0], pd.DataFrame(Counter(ham_corpus).most_common(30))[1])\n",
    "plt.xticks(rotation='vertical')\n",
    "plt.show()"
   ]
  },
  {
   "cell_type": "markdown",
   "id": "5c131770",
   "metadata": {
    "papermill": {
     "duration": 0.030015,
     "end_time": "2022-08-20T18:00:43.428005",
     "exception": false,
     "start_time": "2022-08-20T18:00:43.397990",
     "status": "completed"
    },
    "tags": []
   },
   "source": [
    "# 3. Model Building"
   ]
  },
  {
   "cell_type": "code",
   "execution_count": 57,
   "id": "85a43123",
   "metadata": {
    "execution": {
     "iopub.execute_input": "2022-08-20T18:00:43.490749Z",
     "iopub.status.busy": "2022-08-20T18:00:43.490351Z",
     "iopub.status.idle": "2022-08-20T18:00:43.496232Z",
     "shell.execute_reply": "2022-08-20T18:00:43.494956Z"
    },
    "papermill": {
     "duration": 0.040703,
     "end_time": "2022-08-20T18:00:43.498700",
     "exception": false,
     "start_time": "2022-08-20T18:00:43.457997",
     "status": "completed"
    },
    "tags": []
   },
   "outputs": [],
   "source": [
    "from sklearn.feature_extraction.text import CountVectorizer, TfidfVectorizer\n",
    "cv = CountVectorizer()\n",
    "tfidf = TfidfVectorizer(max_features=3000)"
   ]
  },
  {
   "cell_type": "code",
   "execution_count": 58,
   "id": "d583a0c3",
   "metadata": {
    "execution": {
     "iopub.execute_input": "2022-08-20T18:00:43.570835Z",
     "iopub.status.busy": "2022-08-20T18:00:43.570458Z",
     "iopub.status.idle": "2022-08-20T18:00:43.769260Z",
     "shell.execute_reply": "2022-08-20T18:00:43.768054Z"
    },
    "papermill": {
     "duration": 0.241836,
     "end_time": "2022-08-20T18:00:43.772291",
     "exception": false,
     "start_time": "2022-08-20T18:00:43.530455",
     "status": "completed"
    },
    "tags": []
   },
   "outputs": [],
   "source": [
    "X = tfidf.fit_transform(df['tranformed_text']).toarray()"
   ]
  },
  {
   "cell_type": "code",
   "execution_count": 59,
   "id": "5800546d",
   "metadata": {
    "execution": {
     "iopub.execute_input": "2022-08-20T18:00:43.834936Z",
     "iopub.status.busy": "2022-08-20T18:00:43.834554Z",
     "iopub.status.idle": "2022-08-20T18:00:43.841726Z",
     "shell.execute_reply": "2022-08-20T18:00:43.840723Z"
    },
    "papermill": {
     "duration": 0.041385,
     "end_time": "2022-08-20T18:00:43.844085",
     "exception": false,
     "start_time": "2022-08-20T18:00:43.802700",
     "status": "completed"
    },
    "tags": []
   },
   "outputs": [
    {
     "data": {
      "text/plain": [
       "(5169, 3000)"
      ]
     },
     "execution_count": 59,
     "metadata": {},
     "output_type": "execute_result"
    }
   ],
   "source": [
    "X.shape"
   ]
  },
  {
   "cell_type": "code",
   "execution_count": 60,
   "id": "90ea07e4",
   "metadata": {
    "execution": {
     "iopub.execute_input": "2022-08-20T18:00:43.907563Z",
     "iopub.status.busy": "2022-08-20T18:00:43.906533Z",
     "iopub.status.idle": "2022-08-20T18:00:43.912774Z",
     "shell.execute_reply": "2022-08-20T18:00:43.911615Z"
    },
    "papermill": {
     "duration": 0.040541,
     "end_time": "2022-08-20T18:00:43.914963",
     "exception": false,
     "start_time": "2022-08-20T18:00:43.874422",
     "status": "completed"
    },
    "tags": []
   },
   "outputs": [],
   "source": [
    "y = df['target'].values"
   ]
  },
  {
   "cell_type": "code",
   "execution_count": 61,
   "id": "6e2237f2",
   "metadata": {
    "execution": {
     "iopub.execute_input": "2022-08-20T18:00:43.979448Z",
     "iopub.status.busy": "2022-08-20T18:00:43.978651Z",
     "iopub.status.idle": "2022-08-20T18:00:43.985662Z",
     "shell.execute_reply": "2022-08-20T18:00:43.984822Z"
    },
    "papermill": {
     "duration": 0.041232,
     "end_time": "2022-08-20T18:00:43.987868",
     "exception": false,
     "start_time": "2022-08-20T18:00:43.946636",
     "status": "completed"
    },
    "tags": []
   },
   "outputs": [
    {
     "data": {
      "text/plain": [
       "array([0, 0, 1, ..., 0, 0, 0])"
      ]
     },
     "execution_count": 61,
     "metadata": {},
     "output_type": "execute_result"
    }
   ],
   "source": [
    "y"
   ]
  },
  {
   "cell_type": "code",
   "execution_count": 62,
   "id": "e159c40c",
   "metadata": {
    "execution": {
     "iopub.execute_input": "2022-08-20T18:00:44.051159Z",
     "iopub.status.busy": "2022-08-20T18:00:44.050743Z",
     "iopub.status.idle": "2022-08-20T18:00:44.055445Z",
     "shell.execute_reply": "2022-08-20T18:00:44.054311Z"
    },
    "papermill": {
     "duration": 0.038631,
     "end_time": "2022-08-20T18:00:44.057801",
     "exception": false,
     "start_time": "2022-08-20T18:00:44.019170",
     "status": "completed"
    },
    "tags": []
   },
   "outputs": [],
   "source": [
    "from sklearn.model_selection import train_test_split"
   ]
  },
  {
   "cell_type": "code",
   "execution_count": 63,
   "id": "41347797",
   "metadata": {
    "execution": {
     "iopub.execute_input": "2022-08-20T18:00:44.120149Z",
     "iopub.status.busy": "2022-08-20T18:00:44.119740Z",
     "iopub.status.idle": "2022-08-20T18:00:44.204929Z",
     "shell.execute_reply": "2022-08-20T18:00:44.203904Z"
    },
    "papermill": {
     "duration": 0.119807,
     "end_time": "2022-08-20T18:00:44.207776",
     "exception": false,
     "start_time": "2022-08-20T18:00:44.087969",
     "status": "completed"
    },
    "tags": []
   },
   "outputs": [],
   "source": [
    "X_train, X_test, y_train, y_test = train_test_split(X, y, test_size=0.2, random_state=2)"
   ]
  },
  {
   "cell_type": "code",
   "execution_count": 64,
   "id": "94324a4a",
   "metadata": {
    "execution": {
     "iopub.execute_input": "2022-08-20T18:00:44.273582Z",
     "iopub.status.busy": "2022-08-20T18:00:44.272700Z",
     "iopub.status.idle": "2022-08-20T18:00:44.280604Z",
     "shell.execute_reply": "2022-08-20T18:00:44.279643Z"
    },
    "papermill": {
     "duration": 0.04408,
     "end_time": "2022-08-20T18:00:44.282956",
     "exception": false,
     "start_time": "2022-08-20T18:00:44.238876",
     "status": "completed"
    },
    "tags": []
   },
   "outputs": [],
   "source": [
    "from sklearn.naive_bayes import GaussianNB, MultinomialNB, BernoulliNB\n",
    "from sklearn.metrics import accuracy_score, confusion_matrix, precision_score"
   ]
  },
  {
   "cell_type": "code",
   "execution_count": 65,
   "id": "274c69ed",
   "metadata": {
    "execution": {
     "iopub.execute_input": "2022-08-20T18:00:44.348553Z",
     "iopub.status.busy": "2022-08-20T18:00:44.347679Z",
     "iopub.status.idle": "2022-08-20T18:00:44.353624Z",
     "shell.execute_reply": "2022-08-20T18:00:44.352316Z"
    },
    "papermill": {
     "duration": 0.041961,
     "end_time": "2022-08-20T18:00:44.356342",
     "exception": false,
     "start_time": "2022-08-20T18:00:44.314381",
     "status": "completed"
    },
    "tags": []
   },
   "outputs": [],
   "source": [
    "gnb = GaussianNB()\n",
    "mnb = MultinomialNB()\n",
    "bnb = BernoulliNB()"
   ]
  },
  {
   "cell_type": "code",
   "execution_count": 66,
   "id": "755d998b",
   "metadata": {
    "execution": {
     "iopub.execute_input": "2022-08-20T18:00:44.420218Z",
     "iopub.status.busy": "2022-08-20T18:00:44.419417Z",
     "iopub.status.idle": "2022-08-20T18:00:44.791532Z",
     "shell.execute_reply": "2022-08-20T18:00:44.790422Z"
    },
    "papermill": {
     "duration": 0.406987,
     "end_time": "2022-08-20T18:00:44.793896",
     "exception": false,
     "start_time": "2022-08-20T18:00:44.386909",
     "status": "completed"
    },
    "tags": []
   },
   "outputs": [
    {
     "name": "stdout",
     "output_type": "stream",
     "text": [
      "0.8694390715667312\n",
      "[[788 108]\n",
      " [ 27 111]]\n",
      "0.5068493150684932\n"
     ]
    }
   ],
   "source": [
    "gnb.fit(X_train, y_train)\n",
    "y_pred1 = gnb.predict(X_test)\n",
    "print(accuracy_score(y_test, y_pred1))\n",
    "print(confusion_matrix(y_test, y_pred1))\n",
    "print(precision_score(y_test, y_pred1))"
   ]
  },
  {
   "cell_type": "code",
   "execution_count": 67,
   "id": "fd0b793b",
   "metadata": {
    "execution": {
     "iopub.execute_input": "2022-08-20T18:00:44.857763Z",
     "iopub.status.busy": "2022-08-20T18:00:44.856971Z",
     "iopub.status.idle": "2022-08-20T18:00:44.927304Z",
     "shell.execute_reply": "2022-08-20T18:00:44.926035Z"
    },
    "papermill": {
     "duration": 0.106938,
     "end_time": "2022-08-20T18:00:44.931027",
     "exception": false,
     "start_time": "2022-08-20T18:00:44.824089",
     "status": "completed"
    },
    "tags": []
   },
   "outputs": [
    {
     "name": "stdout",
     "output_type": "stream",
     "text": [
      "0.9709864603481625\n",
      "[[896   0]\n",
      " [ 30 108]]\n",
      "1.0\n"
     ]
    }
   ],
   "source": [
    "mnb.fit(X_train, y_train)\n",
    "y_pred2 = mnb.predict(X_test)\n",
    "print(accuracy_score(y_test, y_pred2))\n",
    "print(confusion_matrix(y_test, y_pred2))\n",
    "print(precision_score(y_test, y_pred2))"
   ]
  },
  {
   "cell_type": "code",
   "execution_count": 68,
   "id": "fb4bc56b",
   "metadata": {
    "execution": {
     "iopub.execute_input": "2022-08-20T18:00:45.035511Z",
     "iopub.status.busy": "2022-08-20T18:00:45.034435Z",
     "iopub.status.idle": "2022-08-20T18:00:45.253211Z",
     "shell.execute_reply": "2022-08-20T18:00:45.251908Z"
    },
    "papermill": {
     "duration": 0.276846,
     "end_time": "2022-08-20T18:00:45.257274",
     "exception": false,
     "start_time": "2022-08-20T18:00:44.980428",
     "status": "completed"
    },
    "tags": []
   },
   "outputs": [
    {
     "name": "stdout",
     "output_type": "stream",
     "text": [
      "0.9835589941972921\n",
      "[[895   1]\n",
      " [ 16 122]]\n",
      "0.991869918699187\n"
     ]
    }
   ],
   "source": [
    "bnb.fit(X_train, y_train)\n",
    "y_pred3 = bnb.predict(X_test)\n",
    "print(accuracy_score(y_test, y_pred3))\n",
    "print(confusion_matrix(y_test, y_pred3))\n",
    "print(precision_score(y_test, y_pred3))"
   ]
  },
  {
   "cell_type": "code",
   "execution_count": 69,
   "id": "759cf864",
   "metadata": {
    "execution": {
     "iopub.execute_input": "2022-08-20T18:00:45.364559Z",
     "iopub.status.busy": "2022-08-20T18:00:45.363995Z",
     "iopub.status.idle": "2022-08-20T18:00:45.651422Z",
     "shell.execute_reply": "2022-08-20T18:00:45.650290Z"
    },
    "papermill": {
     "duration": 0.344055,
     "end_time": "2022-08-20T18:00:45.654283",
     "exception": false,
     "start_time": "2022-08-20T18:00:45.310228",
     "status": "completed"
    },
    "tags": []
   },
   "outputs": [],
   "source": [
    "from sklearn.linear_model import LogisticRegression\n",
    "from sklearn.svm import SVC\n",
    "from sklearn.naive_bayes import MultinomialNB\n",
    "from sklearn.tree import DecisionTreeClassifier\n",
    "from sklearn.neighbors import KNeighborsClassifier\n",
    "from sklearn.ensemble import RandomForestClassifier\n",
    "from sklearn.ensemble import AdaBoostClassifier\n",
    "from sklearn.ensemble import BaggingClassifier\n",
    "from sklearn.ensemble import ExtraTreesClassifier\n",
    "from sklearn.ensemble import GradientBoostingClassifier\n",
    "from xgboost import XGBClassifier"
   ]
  },
  {
   "cell_type": "code",
   "execution_count": 70,
   "id": "83ac3894",
   "metadata": {
    "execution": {
     "iopub.execute_input": "2022-08-20T18:00:45.718637Z",
     "iopub.status.busy": "2022-08-20T18:00:45.717122Z",
     "iopub.status.idle": "2022-08-20T18:00:45.726324Z",
     "shell.execute_reply": "2022-08-20T18:00:45.724755Z"
    },
    "papermill": {
     "duration": 0.043375,
     "end_time": "2022-08-20T18:00:45.728607",
     "exception": false,
     "start_time": "2022-08-20T18:00:45.685232",
     "status": "completed"
    },
    "tags": []
   },
   "outputs": [],
   "source": [
    "svc = SVC(kernel='sigmoid', gamma=1.0)\n",
    "knc = KNeighborsClassifier()\n",
    "mnb = MultinomialNB()\n",
    "dtc = DecisionTreeClassifier(max_depth=5)\n",
    "lrc = LogisticRegression(solver='liblinear', penalty='l1')\n",
    "rfc = RandomForestClassifier(n_estimators=50, random_state=2)\n",
    "abc = AdaBoostClassifier(n_estimators=50, random_state=2)\n",
    "bc = BaggingClassifier(n_estimators=50, random_state=2)\n",
    "etc = ExtraTreesClassifier(n_estimators=50, random_state=2)\n",
    "gbdt = GradientBoostingClassifier(n_estimators=50, random_state=2)\n",
    "xgb = XGBClassifier(n_estimators=50, random_state=2)"
   ]
  },
  {
   "cell_type": "code",
   "execution_count": 71,
   "id": "67040073",
   "metadata": {
    "execution": {
     "iopub.execute_input": "2022-08-20T18:00:45.793028Z",
     "iopub.status.busy": "2022-08-20T18:00:45.792283Z",
     "iopub.status.idle": "2022-08-20T18:00:45.798065Z",
     "shell.execute_reply": "2022-08-20T18:00:45.797228Z"
    },
    "papermill": {
     "duration": 0.040797,
     "end_time": "2022-08-20T18:00:45.800320",
     "exception": false,
     "start_time": "2022-08-20T18:00:45.759523",
     "status": "completed"
    },
    "tags": []
   },
   "outputs": [],
   "source": [
    "clfs = {\n",
    "    'SVC':svc,\n",
    "    'KN':knc,\n",
    "    'NB':mnb,\n",
    "    'DT':dtc,\n",
    "    'LR':lrc,\n",
    "    'RF':rfc,\n",
    "    'Adaboost':abc,\n",
    "    'Bgc':bc,\n",
    "    'ETC':etc,\n",
    "    'GBDT':gbdt,\n",
    "    'xgb':xgb\n",
    "}"
   ]
  },
  {
   "cell_type": "code",
   "execution_count": 72,
   "id": "b577ccfd",
   "metadata": {
    "execution": {
     "iopub.execute_input": "2022-08-20T18:00:45.863742Z",
     "iopub.status.busy": "2022-08-20T18:00:45.863084Z",
     "iopub.status.idle": "2022-08-20T18:00:45.869453Z",
     "shell.execute_reply": "2022-08-20T18:00:45.868614Z"
    },
    "papermill": {
     "duration": 0.040693,
     "end_time": "2022-08-20T18:00:45.871774",
     "exception": false,
     "start_time": "2022-08-20T18:00:45.831081",
     "status": "completed"
    },
    "tags": []
   },
   "outputs": [],
   "source": [
    "def train_classifier(clf, X_train, y_train, X_test, y_test):\n",
    "    clf.fit(X_train, y_train)\n",
    "    y_pred = clf.predict(X_test)\n",
    "    accuracy = accuracy_score(y_test, y_pred)\n",
    "    precision = precision_score(y_test, y_pred)\n",
    "    \n",
    "    return accuracy, precision"
   ]
  },
  {
   "cell_type": "code",
   "execution_count": 73,
   "id": "fc93d005",
   "metadata": {
    "execution": {
     "iopub.execute_input": "2022-08-20T18:00:45.935007Z",
     "iopub.status.busy": "2022-08-20T18:00:45.934260Z",
     "iopub.status.idle": "2022-08-20T18:00:53.088508Z",
     "shell.execute_reply": "2022-08-20T18:00:53.087380Z"
    },
    "papermill": {
     "duration": 7.188441,
     "end_time": "2022-08-20T18:00:53.090853",
     "exception": false,
     "start_time": "2022-08-20T18:00:45.902412",
     "status": "completed"
    },
    "tags": []
   },
   "outputs": [
    {
     "data": {
      "text/plain": [
       "(0.9758220502901354, 0.9747899159663865)"
      ]
     },
     "execution_count": 73,
     "metadata": {},
     "output_type": "execute_result"
    }
   ],
   "source": [
    "train_classifier(svc, X_train, y_train, X_test, y_test)"
   ]
  },
  {
   "cell_type": "code",
   "execution_count": 74,
   "id": "d9806adc",
   "metadata": {
    "execution": {
     "iopub.execute_input": "2022-08-20T18:00:53.155191Z",
     "iopub.status.busy": "2022-08-20T18:00:53.154778Z",
     "iopub.status.idle": "2022-08-20T18:02:49.262273Z",
     "shell.execute_reply": "2022-08-20T18:02:49.260568Z"
    },
    "papermill": {
     "duration": 116.143888,
     "end_time": "2022-08-20T18:02:49.265549",
     "exception": false,
     "start_time": "2022-08-20T18:00:53.121661",
     "status": "completed"
    },
    "tags": []
   },
   "outputs": [
    {
     "name": "stdout",
     "output_type": "stream",
     "text": [
      "For  SVC\n",
      "accuracy -  0.9758220502901354\n",
      "precision -  0.9747899159663865\n",
      "For  KN\n",
      "accuracy -  0.9052224371373307\n",
      "precision -  1.0\n",
      "For  NB\n",
      "accuracy -  0.9709864603481625\n",
      "precision -  1.0\n",
      "For  DT\n",
      "accuracy -  0.9303675048355899\n",
      "precision -  0.8173076923076923\n",
      "For  LR\n",
      "accuracy -  0.9584139264990329\n",
      "precision -  0.9702970297029703\n",
      "For  RF\n",
      "accuracy -  0.9748549323017408\n",
      "precision -  0.9827586206896551\n",
      "For  Adaboost\n",
      "accuracy -  0.960348162475822\n",
      "precision -  0.9292035398230089\n",
      "For  Bgc\n",
      "accuracy -  0.9574468085106383\n",
      "precision -  0.8671875\n",
      "For  ETC\n",
      "accuracy -  0.9748549323017408\n",
      "precision -  0.9745762711864406\n",
      "For  GBDT\n",
      "accuracy -  0.9477756286266924\n",
      "precision -  0.92\n",
      "For  xgb\n",
      "accuracy -  0.971953578336557\n",
      "precision -  0.943089430894309\n"
     ]
    }
   ],
   "source": [
    "accuracy_scores = []\n",
    "precision_scores = []\n",
    "\n",
    "for name, clf in clfs.items():\n",
    "    current_accuracy, current_precision = train_classifier(clf, X_train,y_train, X_test, y_test)\n",
    "    print('For ', name)\n",
    "    print('accuracy - ', current_accuracy)\n",
    "    print('precision - ', current_precision)\n",
    "    \n",
    "    accuracy_scores.append(current_accuracy)\n",
    "    precision_scores.append(current_precision)"
   ]
  },
  {
   "cell_type": "code",
   "execution_count": 75,
   "id": "cbf3e7b3",
   "metadata": {
    "execution": {
     "iopub.execute_input": "2022-08-20T18:02:49.335438Z",
     "iopub.status.busy": "2022-08-20T18:02:49.334415Z",
     "iopub.status.idle": "2022-08-20T18:02:49.341833Z",
     "shell.execute_reply": "2022-08-20T18:02:49.340877Z"
    },
    "papermill": {
     "duration": 0.045439,
     "end_time": "2022-08-20T18:02:49.344236",
     "exception": false,
     "start_time": "2022-08-20T18:02:49.298797",
     "status": "completed"
    },
    "tags": []
   },
   "outputs": [],
   "source": [
    "performance_df = pd.DataFrame({'Algorithm':list(clfs.keys()),'Accuracy':accuracy_scores, 'Precision':precision_scores}).sort_values('Precision', ascending=False)"
   ]
  },
  {
   "cell_type": "code",
   "execution_count": 76,
   "id": "1d832e4e",
   "metadata": {
    "execution": {
     "iopub.execute_input": "2022-08-20T18:02:49.412448Z",
     "iopub.status.busy": "2022-08-20T18:02:49.411997Z",
     "iopub.status.idle": "2022-08-20T18:02:49.423721Z",
     "shell.execute_reply": "2022-08-20T18:02:49.422813Z"
    },
    "papermill": {
     "duration": 0.048573,
     "end_time": "2022-08-20T18:02:49.426041",
     "exception": false,
     "start_time": "2022-08-20T18:02:49.377468",
     "status": "completed"
    },
    "tags": []
   },
   "outputs": [
    {
     "data": {
      "text/html": [
       "<div>\n",
       "<style scoped>\n",
       "    .dataframe tbody tr th:only-of-type {\n",
       "        vertical-align: middle;\n",
       "    }\n",
       "\n",
       "    .dataframe tbody tr th {\n",
       "        vertical-align: top;\n",
       "    }\n",
       "\n",
       "    .dataframe thead th {\n",
       "        text-align: right;\n",
       "    }\n",
       "</style>\n",
       "<table border=\"1\" class=\"dataframe\">\n",
       "  <thead>\n",
       "    <tr style=\"text-align: right;\">\n",
       "      <th></th>\n",
       "      <th>Algorithm</th>\n",
       "      <th>Accuracy</th>\n",
       "      <th>Precision</th>\n",
       "    </tr>\n",
       "  </thead>\n",
       "  <tbody>\n",
       "    <tr>\n",
       "      <th>1</th>\n",
       "      <td>KN</td>\n",
       "      <td>0.905222</td>\n",
       "      <td>1.000000</td>\n",
       "    </tr>\n",
       "    <tr>\n",
       "      <th>2</th>\n",
       "      <td>NB</td>\n",
       "      <td>0.970986</td>\n",
       "      <td>1.000000</td>\n",
       "    </tr>\n",
       "    <tr>\n",
       "      <th>5</th>\n",
       "      <td>RF</td>\n",
       "      <td>0.974855</td>\n",
       "      <td>0.982759</td>\n",
       "    </tr>\n",
       "    <tr>\n",
       "      <th>0</th>\n",
       "      <td>SVC</td>\n",
       "      <td>0.975822</td>\n",
       "      <td>0.974790</td>\n",
       "    </tr>\n",
       "    <tr>\n",
       "      <th>8</th>\n",
       "      <td>ETC</td>\n",
       "      <td>0.974855</td>\n",
       "      <td>0.974576</td>\n",
       "    </tr>\n",
       "    <tr>\n",
       "      <th>4</th>\n",
       "      <td>LR</td>\n",
       "      <td>0.958414</td>\n",
       "      <td>0.970297</td>\n",
       "    </tr>\n",
       "    <tr>\n",
       "      <th>10</th>\n",
       "      <td>xgb</td>\n",
       "      <td>0.971954</td>\n",
       "      <td>0.943089</td>\n",
       "    </tr>\n",
       "    <tr>\n",
       "      <th>6</th>\n",
       "      <td>Adaboost</td>\n",
       "      <td>0.960348</td>\n",
       "      <td>0.929204</td>\n",
       "    </tr>\n",
       "    <tr>\n",
       "      <th>9</th>\n",
       "      <td>GBDT</td>\n",
       "      <td>0.947776</td>\n",
       "      <td>0.920000</td>\n",
       "    </tr>\n",
       "    <tr>\n",
       "      <th>7</th>\n",
       "      <td>Bgc</td>\n",
       "      <td>0.957447</td>\n",
       "      <td>0.867188</td>\n",
       "    </tr>\n",
       "    <tr>\n",
       "      <th>3</th>\n",
       "      <td>DT</td>\n",
       "      <td>0.930368</td>\n",
       "      <td>0.817308</td>\n",
       "    </tr>\n",
       "  </tbody>\n",
       "</table>\n",
       "</div>"
      ],
      "text/plain": [
       "   Algorithm  Accuracy  Precision\n",
       "1         KN  0.905222   1.000000\n",
       "2         NB  0.970986   1.000000\n",
       "5         RF  0.974855   0.982759\n",
       "0        SVC  0.975822   0.974790\n",
       "8        ETC  0.974855   0.974576\n",
       "4         LR  0.958414   0.970297\n",
       "10       xgb  0.971954   0.943089\n",
       "6   Adaboost  0.960348   0.929204\n",
       "9       GBDT  0.947776   0.920000\n",
       "7        Bgc  0.957447   0.867188\n",
       "3         DT  0.930368   0.817308"
      ]
     },
     "execution_count": 76,
     "metadata": {},
     "output_type": "execute_result"
    }
   ],
   "source": [
    "performance_df"
   ]
  },
  {
   "cell_type": "code",
   "execution_count": 77,
   "id": "7b95f605",
   "metadata": {
    "execution": {
     "iopub.execute_input": "2022-08-20T18:02:49.493914Z",
     "iopub.status.busy": "2022-08-20T18:02:49.493300Z",
     "iopub.status.idle": "2022-08-20T18:02:49.501453Z",
     "shell.execute_reply": "2022-08-20T18:02:49.500367Z"
    },
    "papermill": {
     "duration": 0.044201,
     "end_time": "2022-08-20T18:02:49.503589",
     "exception": false,
     "start_time": "2022-08-20T18:02:49.459388",
     "status": "completed"
    },
    "tags": []
   },
   "outputs": [],
   "source": [
    "performance_df1 = pd.melt(performance_df, id_vars='Algorithm')"
   ]
  },
  {
   "cell_type": "code",
   "execution_count": 78,
   "id": "a6a03b78",
   "metadata": {
    "execution": {
     "iopub.execute_input": "2022-08-20T18:02:49.570148Z",
     "iopub.status.busy": "2022-08-20T18:02:49.569722Z",
     "iopub.status.idle": "2022-08-20T18:02:49.583283Z",
     "shell.execute_reply": "2022-08-20T18:02:49.582080Z"
    },
    "papermill": {
     "duration": 0.049687,
     "end_time": "2022-08-20T18:02:49.585575",
     "exception": false,
     "start_time": "2022-08-20T18:02:49.535888",
     "status": "completed"
    },
    "tags": []
   },
   "outputs": [
    {
     "data": {
      "text/html": [
       "<div>\n",
       "<style scoped>\n",
       "    .dataframe tbody tr th:only-of-type {\n",
       "        vertical-align: middle;\n",
       "    }\n",
       "\n",
       "    .dataframe tbody tr th {\n",
       "        vertical-align: top;\n",
       "    }\n",
       "\n",
       "    .dataframe thead th {\n",
       "        text-align: right;\n",
       "    }\n",
       "</style>\n",
       "<table border=\"1\" class=\"dataframe\">\n",
       "  <thead>\n",
       "    <tr style=\"text-align: right;\">\n",
       "      <th></th>\n",
       "      <th>Algorithm</th>\n",
       "      <th>variable</th>\n",
       "      <th>value</th>\n",
       "    </tr>\n",
       "  </thead>\n",
       "  <tbody>\n",
       "    <tr>\n",
       "      <th>0</th>\n",
       "      <td>KN</td>\n",
       "      <td>Accuracy</td>\n",
       "      <td>0.905222</td>\n",
       "    </tr>\n",
       "    <tr>\n",
       "      <th>1</th>\n",
       "      <td>NB</td>\n",
       "      <td>Accuracy</td>\n",
       "      <td>0.970986</td>\n",
       "    </tr>\n",
       "    <tr>\n",
       "      <th>2</th>\n",
       "      <td>RF</td>\n",
       "      <td>Accuracy</td>\n",
       "      <td>0.974855</td>\n",
       "    </tr>\n",
       "    <tr>\n",
       "      <th>3</th>\n",
       "      <td>SVC</td>\n",
       "      <td>Accuracy</td>\n",
       "      <td>0.975822</td>\n",
       "    </tr>\n",
       "    <tr>\n",
       "      <th>4</th>\n",
       "      <td>ETC</td>\n",
       "      <td>Accuracy</td>\n",
       "      <td>0.974855</td>\n",
       "    </tr>\n",
       "    <tr>\n",
       "      <th>5</th>\n",
       "      <td>LR</td>\n",
       "      <td>Accuracy</td>\n",
       "      <td>0.958414</td>\n",
       "    </tr>\n",
       "    <tr>\n",
       "      <th>6</th>\n",
       "      <td>xgb</td>\n",
       "      <td>Accuracy</td>\n",
       "      <td>0.971954</td>\n",
       "    </tr>\n",
       "    <tr>\n",
       "      <th>7</th>\n",
       "      <td>Adaboost</td>\n",
       "      <td>Accuracy</td>\n",
       "      <td>0.960348</td>\n",
       "    </tr>\n",
       "    <tr>\n",
       "      <th>8</th>\n",
       "      <td>GBDT</td>\n",
       "      <td>Accuracy</td>\n",
       "      <td>0.947776</td>\n",
       "    </tr>\n",
       "    <tr>\n",
       "      <th>9</th>\n",
       "      <td>Bgc</td>\n",
       "      <td>Accuracy</td>\n",
       "      <td>0.957447</td>\n",
       "    </tr>\n",
       "    <tr>\n",
       "      <th>10</th>\n",
       "      <td>DT</td>\n",
       "      <td>Accuracy</td>\n",
       "      <td>0.930368</td>\n",
       "    </tr>\n",
       "    <tr>\n",
       "      <th>11</th>\n",
       "      <td>KN</td>\n",
       "      <td>Precision</td>\n",
       "      <td>1.000000</td>\n",
       "    </tr>\n",
       "    <tr>\n",
       "      <th>12</th>\n",
       "      <td>NB</td>\n",
       "      <td>Precision</td>\n",
       "      <td>1.000000</td>\n",
       "    </tr>\n",
       "    <tr>\n",
       "      <th>13</th>\n",
       "      <td>RF</td>\n",
       "      <td>Precision</td>\n",
       "      <td>0.982759</td>\n",
       "    </tr>\n",
       "    <tr>\n",
       "      <th>14</th>\n",
       "      <td>SVC</td>\n",
       "      <td>Precision</td>\n",
       "      <td>0.974790</td>\n",
       "    </tr>\n",
       "    <tr>\n",
       "      <th>15</th>\n",
       "      <td>ETC</td>\n",
       "      <td>Precision</td>\n",
       "      <td>0.974576</td>\n",
       "    </tr>\n",
       "    <tr>\n",
       "      <th>16</th>\n",
       "      <td>LR</td>\n",
       "      <td>Precision</td>\n",
       "      <td>0.970297</td>\n",
       "    </tr>\n",
       "    <tr>\n",
       "      <th>17</th>\n",
       "      <td>xgb</td>\n",
       "      <td>Precision</td>\n",
       "      <td>0.943089</td>\n",
       "    </tr>\n",
       "    <tr>\n",
       "      <th>18</th>\n",
       "      <td>Adaboost</td>\n",
       "      <td>Precision</td>\n",
       "      <td>0.929204</td>\n",
       "    </tr>\n",
       "    <tr>\n",
       "      <th>19</th>\n",
       "      <td>GBDT</td>\n",
       "      <td>Precision</td>\n",
       "      <td>0.920000</td>\n",
       "    </tr>\n",
       "    <tr>\n",
       "      <th>20</th>\n",
       "      <td>Bgc</td>\n",
       "      <td>Precision</td>\n",
       "      <td>0.867188</td>\n",
       "    </tr>\n",
       "    <tr>\n",
       "      <th>21</th>\n",
       "      <td>DT</td>\n",
       "      <td>Precision</td>\n",
       "      <td>0.817308</td>\n",
       "    </tr>\n",
       "  </tbody>\n",
       "</table>\n",
       "</div>"
      ],
      "text/plain": [
       "   Algorithm   variable     value\n",
       "0         KN   Accuracy  0.905222\n",
       "1         NB   Accuracy  0.970986\n",
       "2         RF   Accuracy  0.974855\n",
       "3        SVC   Accuracy  0.975822\n",
       "4        ETC   Accuracy  0.974855\n",
       "5         LR   Accuracy  0.958414\n",
       "6        xgb   Accuracy  0.971954\n",
       "7   Adaboost   Accuracy  0.960348\n",
       "8       GBDT   Accuracy  0.947776\n",
       "9        Bgc   Accuracy  0.957447\n",
       "10        DT   Accuracy  0.930368\n",
       "11        KN  Precision  1.000000\n",
       "12        NB  Precision  1.000000\n",
       "13        RF  Precision  0.982759\n",
       "14       SVC  Precision  0.974790\n",
       "15       ETC  Precision  0.974576\n",
       "16        LR  Precision  0.970297\n",
       "17       xgb  Precision  0.943089\n",
       "18  Adaboost  Precision  0.929204\n",
       "19      GBDT  Precision  0.920000\n",
       "20       Bgc  Precision  0.867188\n",
       "21        DT  Precision  0.817308"
      ]
     },
     "execution_count": 78,
     "metadata": {},
     "output_type": "execute_result"
    }
   ],
   "source": [
    "performance_df1"
   ]
  },
  {
   "cell_type": "code",
   "execution_count": 79,
   "id": "ca4ec4e0",
   "metadata": {
    "execution": {
     "iopub.execute_input": "2022-08-20T18:02:49.653918Z",
     "iopub.status.busy": "2022-08-20T18:02:49.653498Z",
     "iopub.status.idle": "2022-08-20T18:02:49.660093Z",
     "shell.execute_reply": "2022-08-20T18:02:49.659228Z"
    },
    "papermill": {
     "duration": 0.043524,
     "end_time": "2022-08-20T18:02:49.662175",
     "exception": false,
     "start_time": "2022-08-20T18:02:49.618651",
     "status": "completed"
    },
    "tags": []
   },
   "outputs": [],
   "source": [
    "temp_df = pd.DataFrame({'Algorithm':list(clfs.keys()),'Accuracy_max_ft_3000':accuracy_scores, 'Precision_max_ft_3000':precision_scores}).sort_values('Precision_max_ft_3000', ascending=False)"
   ]
  },
  {
   "cell_type": "code",
   "execution_count": 80,
   "id": "8a524da5",
   "metadata": {
    "execution": {
     "iopub.execute_input": "2022-08-20T18:02:49.729955Z",
     "iopub.status.busy": "2022-08-20T18:02:49.729179Z",
     "iopub.status.idle": "2022-08-20T18:02:49.751283Z",
     "shell.execute_reply": "2022-08-20T18:02:49.749945Z"
    },
    "papermill": {
     "duration": 0.059154,
     "end_time": "2022-08-20T18:02:49.754205",
     "exception": false,
     "start_time": "2022-08-20T18:02:49.695051",
     "status": "completed"
    },
    "tags": []
   },
   "outputs": [
    {
     "data": {
      "text/html": [
       "<div>\n",
       "<style scoped>\n",
       "    .dataframe tbody tr th:only-of-type {\n",
       "        vertical-align: middle;\n",
       "    }\n",
       "\n",
       "    .dataframe tbody tr th {\n",
       "        vertical-align: top;\n",
       "    }\n",
       "\n",
       "    .dataframe thead th {\n",
       "        text-align: right;\n",
       "    }\n",
       "</style>\n",
       "<table border=\"1\" class=\"dataframe\">\n",
       "  <thead>\n",
       "    <tr style=\"text-align: right;\">\n",
       "      <th></th>\n",
       "      <th>Algorithm</th>\n",
       "      <th>Accuracy</th>\n",
       "      <th>Precision</th>\n",
       "      <th>Accuracy_max_ft_3000</th>\n",
       "      <th>Precision_max_ft_3000</th>\n",
       "    </tr>\n",
       "  </thead>\n",
       "  <tbody>\n",
       "    <tr>\n",
       "      <th>0</th>\n",
       "      <td>KN</td>\n",
       "      <td>0.905222</td>\n",
       "      <td>1.000000</td>\n",
       "      <td>0.905222</td>\n",
       "      <td>1.000000</td>\n",
       "    </tr>\n",
       "    <tr>\n",
       "      <th>1</th>\n",
       "      <td>NB</td>\n",
       "      <td>0.970986</td>\n",
       "      <td>1.000000</td>\n",
       "      <td>0.970986</td>\n",
       "      <td>1.000000</td>\n",
       "    </tr>\n",
       "    <tr>\n",
       "      <th>2</th>\n",
       "      <td>RF</td>\n",
       "      <td>0.974855</td>\n",
       "      <td>0.982759</td>\n",
       "      <td>0.974855</td>\n",
       "      <td>0.982759</td>\n",
       "    </tr>\n",
       "    <tr>\n",
       "      <th>3</th>\n",
       "      <td>SVC</td>\n",
       "      <td>0.975822</td>\n",
       "      <td>0.974790</td>\n",
       "      <td>0.975822</td>\n",
       "      <td>0.974790</td>\n",
       "    </tr>\n",
       "    <tr>\n",
       "      <th>4</th>\n",
       "      <td>ETC</td>\n",
       "      <td>0.974855</td>\n",
       "      <td>0.974576</td>\n",
       "      <td>0.974855</td>\n",
       "      <td>0.974576</td>\n",
       "    </tr>\n",
       "    <tr>\n",
       "      <th>5</th>\n",
       "      <td>LR</td>\n",
       "      <td>0.958414</td>\n",
       "      <td>0.970297</td>\n",
       "      <td>0.958414</td>\n",
       "      <td>0.970297</td>\n",
       "    </tr>\n",
       "    <tr>\n",
       "      <th>6</th>\n",
       "      <td>xgb</td>\n",
       "      <td>0.971954</td>\n",
       "      <td>0.943089</td>\n",
       "      <td>0.971954</td>\n",
       "      <td>0.943089</td>\n",
       "    </tr>\n",
       "    <tr>\n",
       "      <th>7</th>\n",
       "      <td>Adaboost</td>\n",
       "      <td>0.960348</td>\n",
       "      <td>0.929204</td>\n",
       "      <td>0.960348</td>\n",
       "      <td>0.929204</td>\n",
       "    </tr>\n",
       "    <tr>\n",
       "      <th>8</th>\n",
       "      <td>GBDT</td>\n",
       "      <td>0.947776</td>\n",
       "      <td>0.920000</td>\n",
       "      <td>0.947776</td>\n",
       "      <td>0.920000</td>\n",
       "    </tr>\n",
       "    <tr>\n",
       "      <th>9</th>\n",
       "      <td>Bgc</td>\n",
       "      <td>0.957447</td>\n",
       "      <td>0.867188</td>\n",
       "      <td>0.957447</td>\n",
       "      <td>0.867188</td>\n",
       "    </tr>\n",
       "    <tr>\n",
       "      <th>10</th>\n",
       "      <td>DT</td>\n",
       "      <td>0.930368</td>\n",
       "      <td>0.817308</td>\n",
       "      <td>0.930368</td>\n",
       "      <td>0.817308</td>\n",
       "    </tr>\n",
       "  </tbody>\n",
       "</table>\n",
       "</div>"
      ],
      "text/plain": [
       "   Algorithm  Accuracy  Precision  Accuracy_max_ft_3000  Precision_max_ft_3000\n",
       "0         KN  0.905222   1.000000              0.905222               1.000000\n",
       "1         NB  0.970986   1.000000              0.970986               1.000000\n",
       "2         RF  0.974855   0.982759              0.974855               0.982759\n",
       "3        SVC  0.975822   0.974790              0.975822               0.974790\n",
       "4        ETC  0.974855   0.974576              0.974855               0.974576\n",
       "5         LR  0.958414   0.970297              0.958414               0.970297\n",
       "6        xgb  0.971954   0.943089              0.971954               0.943089\n",
       "7   Adaboost  0.960348   0.929204              0.960348               0.929204\n",
       "8       GBDT  0.947776   0.920000              0.947776               0.920000\n",
       "9        Bgc  0.957447   0.867188              0.957447               0.867188\n",
       "10        DT  0.930368   0.817308              0.930368               0.817308"
      ]
     },
     "execution_count": 80,
     "metadata": {},
     "output_type": "execute_result"
    }
   ],
   "source": [
    "performance_df.merge(temp_df, on='Algorithm')"
   ]
  },
  {
   "cell_type": "code",
   "execution_count": null,
   "id": "f8ce27db",
   "metadata": {
    "papermill": {
     "duration": 0.034104,
     "end_time": "2022-08-20T18:02:49.823799",
     "exception": false,
     "start_time": "2022-08-20T18:02:49.789695",
     "status": "completed"
    },
    "tags": []
   },
   "outputs": [],
   "source": []
  }
 ],
 "metadata": {
  "kernelspec": {
   "display_name": "Python 3",
   "language": "python",
   "name": "python3"
  },
  "language_info": {
   "codemirror_mode": {
    "name": "ipython",
    "version": 3
   },
   "file_extension": ".py",
   "mimetype": "text/x-python",
   "name": "python",
   "nbconvert_exporter": "python",
   "pygments_lexer": "ipython3",
   "version": "3.7.12"
  },
  "papermill": {
   "default_parameters": {},
   "duration": 166.884608,
   "end_time": "2022-08-20T18:02:51.184360",
   "environment_variables": {},
   "exception": null,
   "input_path": "__notebook__.ipynb",
   "output_path": "__notebook__.ipynb",
   "parameters": {},
   "start_time": "2022-08-20T18:00:04.299752",
   "version": "2.3.4"
  }
 },
 "nbformat": 4,
 "nbformat_minor": 5
}
